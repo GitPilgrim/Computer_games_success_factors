{
 "cells": [
  {
   "cell_type": "markdown",
   "metadata": {},
   "source": [
    "# Выявление факторов успешности компьютерных игр"
   ]
  },
  {
   "cell_type": "markdown",
   "metadata": {},
   "source": [
    "## Описание\n",
    "Интернет магазину компьютерных игр для оптимизации продуктовой линейки и планирования рекламных компаний необходимо определить факторы и закономерности, определяющие успешность игр.\n",
    "\n",
    "\n",
    "Из открытых источников доступны исторические данные о продажах игр, оценки пользователей и экспертов, жанры и платформы (например, Xbox или PlayStation)."
   ]
  },
  {
   "cell_type": "markdown",
   "metadata": {},
   "source": [
    "## Содержание"
   ]
  },
  {
   "cell_type": "markdown",
   "metadata": {},
   "source": [
    "1. [Предобработка данных.](#1)\n",
    "2. [Исследовательский анализ данных.](#2)\n",
    "3. [Проверка статистических гипотез.](#3)\n",
    "4. [Общие выводы.](#4)"
   ]
  },
  {
   "cell_type": "markdown",
   "metadata": {},
   "source": [
    "# 1. Предобработка данных. <a id=1></a>"
   ]
  },
  {
   "cell_type": "markdown",
   "metadata": {},
   "source": [
    "### Знакомство с данными"
   ]
  },
  {
   "cell_type": "code",
   "execution_count": 176,
   "metadata": {},
   "outputs": [],
   "source": [
    "# импортируем все, что пригодится\n",
    "import pandas as pd\n",
    "import matplotlib.pyplot as plt\n",
    "import numpy as np\n",
    "from scipy import stats as st"
   ]
  },
  {
   "cell_type": "code",
   "execution_count": 177,
   "metadata": {},
   "outputs": [
    {
     "name": "stdout",
     "output_type": "stream",
     "text": [
      "<class 'pandas.core.frame.DataFrame'>\n",
      "RangeIndex: 16715 entries, 0 to 16714\n",
      "Data columns (total 11 columns):\n",
      " #   Column           Non-Null Count  Dtype  \n",
      "---  ------           --------------  -----  \n",
      " 0   Name             16713 non-null  object \n",
      " 1   Platform         16715 non-null  object \n",
      " 2   Year_of_Release  16446 non-null  float64\n",
      " 3   Genre            16713 non-null  object \n",
      " 4   NA_sales         16715 non-null  float64\n",
      " 5   EU_sales         16715 non-null  float64\n",
      " 6   JP_sales         16715 non-null  float64\n",
      " 7   Other_sales      16715 non-null  float64\n",
      " 8   Critic_Score     8137 non-null   float64\n",
      " 9   User_Score       10014 non-null  object \n",
      " 10  Rating           9949 non-null   object \n",
      "dtypes: float64(6), object(5)\n",
      "memory usage: 1.1+ MB\n"
     ]
    },
    {
     "data": {
      "text/html": [
       "<div>\n",
       "<style scoped>\n",
       "    .dataframe tbody tr th:only-of-type {\n",
       "        vertical-align: middle;\n",
       "    }\n",
       "\n",
       "    .dataframe tbody tr th {\n",
       "        vertical-align: top;\n",
       "    }\n",
       "\n",
       "    .dataframe thead th {\n",
       "        text-align: right;\n",
       "    }\n",
       "</style>\n",
       "<table border=\"1\" class=\"dataframe\">\n",
       "  <thead>\n",
       "    <tr style=\"text-align: right;\">\n",
       "      <th></th>\n",
       "      <th>Name</th>\n",
       "      <th>Platform</th>\n",
       "      <th>Year_of_Release</th>\n",
       "      <th>Genre</th>\n",
       "      <th>NA_sales</th>\n",
       "      <th>EU_sales</th>\n",
       "      <th>JP_sales</th>\n",
       "      <th>Other_sales</th>\n",
       "      <th>Critic_Score</th>\n",
       "      <th>User_Score</th>\n",
       "      <th>Rating</th>\n",
       "    </tr>\n",
       "  </thead>\n",
       "  <tbody>\n",
       "    <tr>\n",
       "      <th>0</th>\n",
       "      <td>Wii Sports</td>\n",
       "      <td>Wii</td>\n",
       "      <td>2006.0</td>\n",
       "      <td>Sports</td>\n",
       "      <td>41.36</td>\n",
       "      <td>28.96</td>\n",
       "      <td>3.77</td>\n",
       "      <td>8.45</td>\n",
       "      <td>76.0</td>\n",
       "      <td>8</td>\n",
       "      <td>E</td>\n",
       "    </tr>\n",
       "    <tr>\n",
       "      <th>1</th>\n",
       "      <td>Super Mario Bros.</td>\n",
       "      <td>NES</td>\n",
       "      <td>1985.0</td>\n",
       "      <td>Platform</td>\n",
       "      <td>29.08</td>\n",
       "      <td>3.58</td>\n",
       "      <td>6.81</td>\n",
       "      <td>0.77</td>\n",
       "      <td>NaN</td>\n",
       "      <td>NaN</td>\n",
       "      <td>NaN</td>\n",
       "    </tr>\n",
       "    <tr>\n",
       "      <th>2</th>\n",
       "      <td>Mario Kart Wii</td>\n",
       "      <td>Wii</td>\n",
       "      <td>2008.0</td>\n",
       "      <td>Racing</td>\n",
       "      <td>15.68</td>\n",
       "      <td>12.76</td>\n",
       "      <td>3.79</td>\n",
       "      <td>3.29</td>\n",
       "      <td>82.0</td>\n",
       "      <td>8.3</td>\n",
       "      <td>E</td>\n",
       "    </tr>\n",
       "    <tr>\n",
       "      <th>3</th>\n",
       "      <td>Wii Sports Resort</td>\n",
       "      <td>Wii</td>\n",
       "      <td>2009.0</td>\n",
       "      <td>Sports</td>\n",
       "      <td>15.61</td>\n",
       "      <td>10.93</td>\n",
       "      <td>3.28</td>\n",
       "      <td>2.95</td>\n",
       "      <td>80.0</td>\n",
       "      <td>8</td>\n",
       "      <td>E</td>\n",
       "    </tr>\n",
       "    <tr>\n",
       "      <th>4</th>\n",
       "      <td>Pokemon Red/Pokemon Blue</td>\n",
       "      <td>GB</td>\n",
       "      <td>1996.0</td>\n",
       "      <td>Role-Playing</td>\n",
       "      <td>11.27</td>\n",
       "      <td>8.89</td>\n",
       "      <td>10.22</td>\n",
       "      <td>1.00</td>\n",
       "      <td>NaN</td>\n",
       "      <td>NaN</td>\n",
       "      <td>NaN</td>\n",
       "    </tr>\n",
       "    <tr>\n",
       "      <th>5</th>\n",
       "      <td>Tetris</td>\n",
       "      <td>GB</td>\n",
       "      <td>1989.0</td>\n",
       "      <td>Puzzle</td>\n",
       "      <td>23.20</td>\n",
       "      <td>2.26</td>\n",
       "      <td>4.22</td>\n",
       "      <td>0.58</td>\n",
       "      <td>NaN</td>\n",
       "      <td>NaN</td>\n",
       "      <td>NaN</td>\n",
       "    </tr>\n",
       "    <tr>\n",
       "      <th>6</th>\n",
       "      <td>New Super Mario Bros.</td>\n",
       "      <td>DS</td>\n",
       "      <td>2006.0</td>\n",
       "      <td>Platform</td>\n",
       "      <td>11.28</td>\n",
       "      <td>9.14</td>\n",
       "      <td>6.50</td>\n",
       "      <td>2.88</td>\n",
       "      <td>89.0</td>\n",
       "      <td>8.5</td>\n",
       "      <td>E</td>\n",
       "    </tr>\n",
       "    <tr>\n",
       "      <th>7</th>\n",
       "      <td>Wii Play</td>\n",
       "      <td>Wii</td>\n",
       "      <td>2006.0</td>\n",
       "      <td>Misc</td>\n",
       "      <td>13.96</td>\n",
       "      <td>9.18</td>\n",
       "      <td>2.93</td>\n",
       "      <td>2.84</td>\n",
       "      <td>58.0</td>\n",
       "      <td>6.6</td>\n",
       "      <td>E</td>\n",
       "    </tr>\n",
       "    <tr>\n",
       "      <th>8</th>\n",
       "      <td>New Super Mario Bros. Wii</td>\n",
       "      <td>Wii</td>\n",
       "      <td>2009.0</td>\n",
       "      <td>Platform</td>\n",
       "      <td>14.44</td>\n",
       "      <td>6.94</td>\n",
       "      <td>4.70</td>\n",
       "      <td>2.24</td>\n",
       "      <td>87.0</td>\n",
       "      <td>8.4</td>\n",
       "      <td>E</td>\n",
       "    </tr>\n",
       "    <tr>\n",
       "      <th>9</th>\n",
       "      <td>Duck Hunt</td>\n",
       "      <td>NES</td>\n",
       "      <td>1984.0</td>\n",
       "      <td>Shooter</td>\n",
       "      <td>26.93</td>\n",
       "      <td>0.63</td>\n",
       "      <td>0.28</td>\n",
       "      <td>0.47</td>\n",
       "      <td>NaN</td>\n",
       "      <td>NaN</td>\n",
       "      <td>NaN</td>\n",
       "    </tr>\n",
       "  </tbody>\n",
       "</table>\n",
       "</div>"
      ],
      "text/plain": [
       "                        Name Platform  Year_of_Release         Genre  \\\n",
       "0                 Wii Sports      Wii           2006.0        Sports   \n",
       "1          Super Mario Bros.      NES           1985.0      Platform   \n",
       "2             Mario Kart Wii      Wii           2008.0        Racing   \n",
       "3          Wii Sports Resort      Wii           2009.0        Sports   \n",
       "4   Pokemon Red/Pokemon Blue       GB           1996.0  Role-Playing   \n",
       "5                     Tetris       GB           1989.0        Puzzle   \n",
       "6      New Super Mario Bros.       DS           2006.0      Platform   \n",
       "7                   Wii Play      Wii           2006.0          Misc   \n",
       "8  New Super Mario Bros. Wii      Wii           2009.0      Platform   \n",
       "9                  Duck Hunt      NES           1984.0       Shooter   \n",
       "\n",
       "   NA_sales  EU_sales  JP_sales  Other_sales  Critic_Score User_Score Rating  \n",
       "0     41.36     28.96      3.77         8.45          76.0          8      E  \n",
       "1     29.08      3.58      6.81         0.77           NaN        NaN    NaN  \n",
       "2     15.68     12.76      3.79         3.29          82.0        8.3      E  \n",
       "3     15.61     10.93      3.28         2.95          80.0          8      E  \n",
       "4     11.27      8.89     10.22         1.00           NaN        NaN    NaN  \n",
       "5     23.20      2.26      4.22         0.58           NaN        NaN    NaN  \n",
       "6     11.28      9.14      6.50         2.88          89.0        8.5      E  \n",
       "7     13.96      9.18      2.93         2.84          58.0        6.6      E  \n",
       "8     14.44      6.94      4.70         2.24          87.0        8.4      E  \n",
       "9     26.93      0.63      0.28         0.47           NaN        NaN    NaN  "
      ]
     },
     "execution_count": 177,
     "metadata": {},
     "output_type": "execute_result"
    }
   ],
   "source": [
    "# Забираем сет  и осматриваем данные\n",
    "df = pd.read_csv('games.csv')\n",
    "df.info()\n",
    "df.head(10)\n"
   ]
  },
  {
   "cell_type": "markdown",
   "metadata": {},
   "source": [
    "Предварительно, следующие роблемы в данных:\n",
    "1. Пропуски в колонках     \n",
    "Name              \n",
    "Year_of_Release    \n",
    "Genre              \n",
    "Critic_Score       \n",
    "User_Score         \n",
    "Rating             \n",
    "2. Year_of_Release лучше привести к типу целых чисел\n",
    "3. Колонка User_Score имеет класс object (из-за вкрапления текстовых значений)\n"
   ]
  },
  {
   "cell_type": "markdown",
   "metadata": {},
   "source": [
    "### Подготовка данных"
   ]
  },
  {
   "cell_type": "code",
   "execution_count": 178,
   "metadata": {},
   "outputs": [
    {
     "data": {
      "text/html": [
       "<div>\n",
       "<style scoped>\n",
       "    .dataframe tbody tr th:only-of-type {\n",
       "        vertical-align: middle;\n",
       "    }\n",
       "\n",
       "    .dataframe tbody tr th {\n",
       "        vertical-align: top;\n",
       "    }\n",
       "\n",
       "    .dataframe thead th {\n",
       "        text-align: right;\n",
       "    }\n",
       "</style>\n",
       "<table border=\"1\" class=\"dataframe\">\n",
       "  <thead>\n",
       "    <tr style=\"text-align: right;\">\n",
       "      <th></th>\n",
       "      <th>name</th>\n",
       "      <th>platform</th>\n",
       "      <th>year_of_release</th>\n",
       "      <th>genre</th>\n",
       "      <th>na_sales</th>\n",
       "      <th>eu_sales</th>\n",
       "      <th>jp_sales</th>\n",
       "      <th>other_sales</th>\n",
       "      <th>critic_score</th>\n",
       "      <th>user_score</th>\n",
       "      <th>rating</th>\n",
       "    </tr>\n",
       "  </thead>\n",
       "  <tbody>\n",
       "    <tr>\n",
       "      <th>0</th>\n",
       "      <td>Wii Sports</td>\n",
       "      <td>Wii</td>\n",
       "      <td>2006.0</td>\n",
       "      <td>Sports</td>\n",
       "      <td>41.36</td>\n",
       "      <td>28.96</td>\n",
       "      <td>3.77</td>\n",
       "      <td>8.45</td>\n",
       "      <td>76.0</td>\n",
       "      <td>8</td>\n",
       "      <td>E</td>\n",
       "    </tr>\n",
       "    <tr>\n",
       "      <th>1</th>\n",
       "      <td>Super Mario Bros.</td>\n",
       "      <td>NES</td>\n",
       "      <td>1985.0</td>\n",
       "      <td>Platform</td>\n",
       "      <td>29.08</td>\n",
       "      <td>3.58</td>\n",
       "      <td>6.81</td>\n",
       "      <td>0.77</td>\n",
       "      <td>NaN</td>\n",
       "      <td>NaN</td>\n",
       "      <td>NaN</td>\n",
       "    </tr>\n",
       "    <tr>\n",
       "      <th>2</th>\n",
       "      <td>Mario Kart Wii</td>\n",
       "      <td>Wii</td>\n",
       "      <td>2008.0</td>\n",
       "      <td>Racing</td>\n",
       "      <td>15.68</td>\n",
       "      <td>12.76</td>\n",
       "      <td>3.79</td>\n",
       "      <td>3.29</td>\n",
       "      <td>82.0</td>\n",
       "      <td>8.3</td>\n",
       "      <td>E</td>\n",
       "    </tr>\n",
       "  </tbody>\n",
       "</table>\n",
       "</div>"
      ],
      "text/plain": [
       "                name platform  year_of_release     genre  na_sales  eu_sales  \\\n",
       "0         Wii Sports      Wii           2006.0    Sports     41.36     28.96   \n",
       "1  Super Mario Bros.      NES           1985.0  Platform     29.08      3.58   \n",
       "2     Mario Kart Wii      Wii           2008.0    Racing     15.68     12.76   \n",
       "\n",
       "   jp_sales  other_sales  critic_score user_score rating  \n",
       "0      3.77         8.45          76.0          8      E  \n",
       "1      6.81         0.77           NaN        NaN    NaN  \n",
       "2      3.79         3.29          82.0        8.3      E  "
      ]
     },
     "execution_count": 178,
     "metadata": {},
     "output_type": "execute_result"
    }
   ],
   "source": [
    "# Заменим регистр в названиях колонок дляудобства обработки\n",
    "df.columns=df.columns.str.lower()\n",
    "df.head(3)"
   ]
  },
  {
   "cell_type": "code",
   "execution_count": 179,
   "metadata": {},
   "outputs": [
    {
     "data": {
      "text/plain": [
       "0"
      ]
     },
     "execution_count": 179,
     "metadata": {},
     "output_type": "execute_result"
    }
   ],
   "source": [
    "# Сменим регистр в колонках name, platform и genre на нижний\n",
    "df['name'] = df['name'].str.lower() \n",
    "df['platform'] = df['platform'].str.lower()\n",
    "df['genre'] = df['genre'].str.lower()\n",
    "#df.head(3)\n",
    "\n",
    "# и найдем явные дубликаты\n",
    "df.duplicated().sum()\n",
    "# явные дубликаты отсутствуют"
   ]
  },
  {
   "cell_type": "markdown",
   "metadata": {},
   "source": [
    "### Ликвидация пропусков"
   ]
  },
  {
   "cell_type": "code",
   "execution_count": 180,
   "metadata": {},
   "outputs": [
    {
     "data": {
      "text/plain": [
       "2008.0    1427\n",
       "2009.0    1426\n",
       "2010.0    1255\n",
       "2007.0    1197\n",
       "2011.0    1136\n",
       "2006.0    1006\n",
       "2005.0     939\n",
       "2002.0     829\n",
       "2003.0     775\n",
       "2004.0     762\n",
       "2012.0     653\n",
       "2015.0     606\n",
       "2014.0     581\n",
       "2013.0     544\n",
       "2016.0     502\n",
       "2001.0     482\n",
       "1998.0     379\n",
       "2000.0     350\n",
       "1999.0     338\n",
       "1997.0     289\n",
       "1996.0     263\n",
       "1995.0     219\n",
       "1994.0     121\n",
       "1993.0      62\n",
       "1981.0      46\n",
       "1992.0      43\n",
       "1991.0      41\n",
       "1982.0      36\n",
       "1986.0      21\n",
       "1989.0      17\n",
       "1983.0      17\n",
       "1990.0      16\n",
       "1987.0      16\n",
       "1988.0      15\n",
       "1985.0      14\n",
       "1984.0      14\n",
       "1980.0       9\n",
       "Name: year_of_release, dtype: int64"
      ]
     },
     "execution_count": 180,
     "metadata": {},
     "output_type": "execute_result"
    }
   ],
   "source": [
    "# посмотрим как распределены данные по годам\n",
    "df['year_of_release'].value_counts()"
   ]
  },
  {
   "cell_type": "markdown",
   "metadata": {},
   "source": [
    "<span style='color:blue'>Количество игр до 2000г. и игр с неизвестной датой релиза всего около 13% датасета. Это не мало, но индустрия игр так сильно преобразилась с 1980-х, что закономерности периода до 2000г могут скорее внести искажения в те закономерности, которые наблюдаются в текущий момент. Т.е. ценность этих данных сомнительна. Кроме того, Выделение игр от 2000 года позволит сразу решить часть проблем с пропусками, которые наблюдаются в данных ранних лет. </span>"
   ]
  },
  {
   "cell_type": "code",
   "execution_count": 181,
   "metadata": {},
   "outputs": [
    {
     "name": "stdout",
     "output_type": "stream",
     "text": [
      "<class 'pandas.core.frame.DataFrame'>\n",
      "Int64Index: 14470 entries, 0 to 16714\n",
      "Data columns (total 11 columns):\n",
      " #   Column           Non-Null Count  Dtype  \n",
      "---  ------           --------------  -----  \n",
      " 0   name             14470 non-null  object \n",
      " 1   platform         14470 non-null  object \n",
      " 2   year_of_release  14470 non-null  float64\n",
      " 3   genre            14470 non-null  object \n",
      " 4   na_sales         14470 non-null  float64\n",
      " 5   eu_sales         14470 non-null  float64\n",
      " 6   jp_sales         14470 non-null  float64\n",
      " 7   other_sales      14470 non-null  float64\n",
      " 8   critic_score     7887 non-null   float64\n",
      " 9   user_score       9738 non-null   object \n",
      " 10  rating           9663 non-null   object \n",
      "dtypes: float64(6), object(5)\n",
      "memory usage: 1.0+ MB\n"
     ]
    }
   ],
   "source": [
    "# посмотрим какие проблемы удастся решить обрезав данные по 2000 г.\n",
    "df.query('year_of_release >= 2000').info()\n",
    "# остались пропуски только в трех рейтинговых колонках\n",
    "\n",
    "# обрезаем сет до актуального периода\n",
    "df = df.query('year_of_release >= 2000')"
   ]
  },
  {
   "cell_type": "markdown",
   "metadata": {},
   "source": [
    "<span style='color:blue'>Выделение актуального периода позволило попутно решить часть проблем с пропусками. Остались только пропуски в рейтинговых колонках critic_score, user_score, rating. Пропуски в этих колонках не помешают обработке данных. При этом, около 87% наиболее актуальных данных сохранено.</span>"
   ]
  },
  {
   "cell_type": "markdown",
   "metadata": {},
   "source": [
    "### Преобразование типов данных"
   ]
  },
  {
   "cell_type": "code",
   "execution_count": 182,
   "metadata": {},
   "outputs": [
    {
     "name": "stdout",
     "output_type": "stream",
     "text": [
      "Подсчет значений user_score: \n",
      " tbd    2367\n",
      "7.8     319\n",
      "8       284\n",
      "8.2     270\n",
      "8.3     247\n",
      "       ... \n",
      "0.3       2\n",
      "1.3       2\n",
      "0.5       2\n",
      "9.7       1\n",
      "0         1\n",
      "Name: user_score, Length: 96, dtype: int64 \n",
      "\n",
      "Подсчет значений user_score после сброса: \n",
      " 7.8    319\n",
      "8.0    284\n",
      "8.2    270\n",
      "8.3    247\n",
      "7.5    246\n",
      "      ... \n",
      "0.9      2\n",
      "1.1      2\n",
      "2.3      2\n",
      "0.0      1\n",
      "9.7      1\n",
      "Name: user_score, Length: 95, dtype: int64\n"
     ]
    }
   ],
   "source": [
    "# определим значения, которые превращают колонку user_score в тип object\n",
    "print('Подсчет значений user_score: \\n', df['user_score'].value_counts(),'\\n')\n",
    "# значение tbd (to be determined) означает, что на данный момент значение еще не определено(фактически отсутствует)\n",
    "\n",
    "# раз значение фактически отсутствует, а пропуски в этой колонке мы оставили без заполнения,\n",
    "##то логично сбросить и значения tbd\n",
    "df.loc[df['user_score'] == 'tbd', 'user_score'] = ''\n",
    "df['user_score'] = pd.to_numeric(df['user_score'])\n",
    "print('Подсчет значений user_score после сброса: \\n', df['user_score'].value_counts())"
   ]
  },
  {
   "cell_type": "code",
   "execution_count": 183,
   "metadata": {},
   "outputs": [
    {
     "name": "stdout",
     "output_type": "stream",
     "text": [
      "<class 'pandas.core.frame.DataFrame'>\n",
      "Int64Index: 14470 entries, 0 to 16714\n",
      "Data columns (total 11 columns):\n",
      " #   Column           Non-Null Count  Dtype  \n",
      "---  ------           --------------  -----  \n",
      " 0   name             14470 non-null  object \n",
      " 1   platform         14470 non-null  object \n",
      " 2   year_of_release  14470 non-null  int32  \n",
      " 3   genre            14470 non-null  object \n",
      " 4   na_sales         14470 non-null  float64\n",
      " 5   eu_sales         14470 non-null  float64\n",
      " 6   jp_sales         14470 non-null  float64\n",
      " 7   other_sales      14470 non-null  float64\n",
      " 8   critic_score     7887 non-null   float64\n",
      " 9   user_score       7371 non-null   float64\n",
      " 10  rating           9663 non-null   object \n",
      "dtypes: float64(6), int32(1), object(4)\n",
      "memory usage: 1.0+ MB\n"
     ]
    }
   ],
   "source": [
    "#для удобства преведем year_of_release  к типу целых чисел\n",
    "df['year_of_release'] = df['year_of_release'].astype('int')\n",
    "df.info()"
   ]
  },
  {
   "cell_type": "markdown",
   "metadata": {},
   "source": [
    "### Расчет производных данных"
   ]
  },
  {
   "cell_type": "code",
   "execution_count": 184,
   "metadata": {},
   "outputs": [],
   "source": [
    "# Посчитаем суммарные продажи\n",
    "df['sum_sales'] = df['na_sales'] + df['eu_sales'] + df['jp_sales'] + df['other_sales']\n",
    "#df['sum_sales']"
   ]
  },
  {
   "cell_type": "markdown",
   "metadata": {},
   "source": [
    "#  2. Исследовательский анализ данных. <a id=2></a>"
   ]
  },
  {
   "cell_type": "markdown",
   "metadata": {},
   "source": [
    "### Общерыночные тенденции"
   ]
  },
  {
   "cell_type": "code",
   "execution_count": 185,
   "metadata": {},
   "outputs": [
    {
     "data": {
      "text/plain": [
       "Text(0.5, 1.0, 'Динамика выпуска игр по годам \\n')"
      ]
     },
     "execution_count": 185,
     "metadata": {},
     "output_type": "execute_result"
    },
    {
     "data": {
      "image/png": "[encoded data removed]",
      "text/plain": [
       "<Figure size 1080x360 with 1 Axes>"
      ]
     },
     "metadata": {
      "needs_background": "light"
     },
     "output_type": "display_data"
    }
   ],
   "source": [
    "# Начнем с общерыночных тенденций\n",
    "\n",
    "# Как много игр выпущено в разные годы?\n",
    "years_counts = pd.DataFrame(df['year_of_release'].value_counts()).reset_index().sort_values(by='index')\n",
    "years_counts.columns = ['year_of_release','games_counts'] \n",
    "years_counts.plot(x = 'year_of_release', y = 'games_counts', figsize=(15,5), kind='bar')\n",
    "plt.ylabel('Количество выпущенных игр (шт.)')\n",
    "plt.xlabel('Год выпуска')\n",
    "plt.title('Динамика выпуска игр по годам \\n')\n"
   ]
  },
  {
   "cell_type": "markdown",
   "metadata": {},
   "source": [
    "<span style='color:Blue'>Количесво игр выводимых на рынок достигло пика в 2008г. С тех пор оно сократилось более чем вдвое.  </span>"
   ]
  },
  {
   "cell_type": "code",
   "execution_count": 186,
   "metadata": {},
   "outputs": [
    {
     "data": {
      "text/plain": [
       "Text(0.5, 1.0, 'Динамика продаж игр по годам \\n')"
      ]
     },
     "execution_count": 186,
     "metadata": {},
     "output_type": "execute_result"
    },
    {
     "data": {
      "image/png": "[encoded data removed]",
      "text/plain": [
       "<Figure size 1080x360 with 1 Axes>"
      ]
     },
     "metadata": {
      "needs_background": "light"
     },
     "output_type": "display_data"
    }
   ],
   "source": [
    "# Каковы общие объемы продаж по годам?\n",
    "years_sales = df.pivot_table(index='year_of_release', values='sum_sales', aggfunc='sum').reset_index()\n",
    "years_sales.plot(x = 'year_of_release', y = 'sum_sales', figsize=(15,5),kind='bar')\n",
    "plt.ylabel('Объем продаж (млн. копий)')\n",
    "plt.xlabel('Год')\n",
    "plt.title('Динамика продаж игр по годам \\n')"
   ]
  },
  {
   "cell_type": "markdown",
   "metadata": {},
   "source": [
    "<span style='color:Blue'>Объем продаж так же сократился с пика в 2008г. Т.е. покупатели не перераспределились между сократившимся количеством игр, а стали меньше их покупать.</span>"
   ]
  },
  {
   "cell_type": "code",
   "execution_count": 187,
   "metadata": {},
   "outputs": [
    {
     "data": {
      "text/plain": [
       "Text(0.5, 1.0, 'Динамика продаж игр на различных территориальных рынках \\n')"
      ]
     },
     "execution_count": 187,
     "metadata": {},
     "output_type": "execute_result"
    },
    {
     "data": {
      "image/png": "[encoded data removed]",
      "text/plain": [
       "<Figure size 1080x360 with 1 Axes>"
      ]
     },
     "metadata": {
      "needs_background": "light"
     },
     "output_type": "display_data"
    }
   ],
   "source": [
    "# посмотрим на продажи в разрезе территориальных рынков\n",
    "markets_sales = df.pivot_table(\n",
    "    index=\"year_of_release\",\n",
    "    values=(\"na_sales\", \"eu_sales\", \"jp_sales\", \"other_sales\"),\n",
    "    aggfunc=\"sum\",\n",
    ").reset_index()\n",
    "\n",
    "ax = markets_sales.plot(x = 'year_of_release', y = 'eu_sales')\n",
    "markets_sales.plot(x = 'year_of_release', y = 'jp_sales', figsize=(15,5), ax=ax)\n",
    "markets_sales.plot(x = 'year_of_release', y = 'na_sales',ax=ax)\n",
    "markets_sales.plot(x = 'year_of_release', y = 'other_sales',ax=ax)\n",
    "plt.ylabel('Объем продаж (млн. копий)')\n",
    "plt.xlabel('Год')\n",
    "plt.title('Динамика продаж игр на различных территориальных рынках \\n')\n"
   ]
  },
  {
   "cell_type": "markdown",
   "metadata": {},
   "source": [
    "<span style='color:Blue'> Картина по территориальным рынкам в целом идентична. Сжатие рынка примерно с 2008г. Хотя, данные за 20016г. могут быть не полными, общая тенденция очевидна и без них.</span>"
   ]
  },
  {
   "cell_type": "markdown",
   "metadata": {},
   "source": [
    "### Взаимосвязь оценк пользователей и критиков с объемами продаж"
   ]
  },
  {
   "cell_type": "code",
   "execution_count": 188,
   "metadata": {
    "scrolled": true
   },
   "outputs": [
    {
     "data": {
      "text/plain": [
       "0.08102004419140847"
      ]
     },
     "execution_count": 188,
     "metadata": {},
     "output_type": "execute_result"
    }
   ],
   "source": [
    "# определим корреляцию оценок пользователей и объемов продаж\n",
    "df['sum_sales'].corr(df['user_score'])\n",
    "# очень слабая корреляция"
   ]
  },
  {
   "cell_type": "code",
   "execution_count": 189,
   "metadata": {},
   "outputs": [
    {
     "data": {
      "text/plain": [
       "0.2381650578416602"
      ]
     },
     "execution_count": 189,
     "metadata": {},
     "output_type": "execute_result"
    }
   ],
   "source": [
    "# определим корреляцию оценок критиков и объемов продаж\n",
    "df['sum_sales'].corr(df['critic_score'])\n",
    "# чуть сильнее, но так же очень слабая корреляция"
   ]
  },
  {
   "cell_type": "code",
   "execution_count": 190,
   "metadata": {},
   "outputs": [
    {
     "data": {
      "text/plain": [
       "Text(0.5, 1.0, 'Зависимость объемов продаж от оценки критиков \\n')"
      ]
     },
     "execution_count": 190,
     "metadata": {},
     "output_type": "execute_result"
    },
    {
     "data": {
      "image/png": "[encoded data removed]",
      "text/plain": [
       "<Figure size 1080x360 with 1 Axes>"
      ]
     },
     "metadata": {
      "needs_background": "light"
     },
     "output_type": "display_data"
    }
   ],
   "source": [
    "# Корреляция оценок критиков и объемов продаж  чуть сильнее. Посмотрим ее на графике.\n",
    "df.plot(x='sum_sales', y='critic_score', kind='scatter', figsize=(15,5))\n",
    "plt.ylabel('Оценка критиков (баллы)')\n",
    "plt.xlabel('Объем продаж (млн. копий)')\n",
    "plt.title('Зависимость объемов продаж от оценки критиков \\n')"
   ]
  },
  {
   "cell_type": "markdown",
   "metadata": {},
   "source": [
    "<span style='color:Blue'>Ни оценки критиков, ни оценки пользователей не имеют однозначной связи с объемом продаж, а значит ориентироваться на этот показатель в первую очередь не стоит, но как фактор второго порядка, оценка критиков имеет право на существование.</span>\n",
    "\n",
    "<br><span style='color:Blue'>График продемонстрировал одно выдающееся значение по объему продаж, на столько большое, что оно способно существенно исказить дальнейшее исследование по платформам в случае, если это ошибка.</span>"
   ]
  },
  {
   "cell_type": "code",
   "execution_count": 191,
   "metadata": {},
   "outputs": [
    {
     "data": {
      "text/html": [
       "<div>\n",
       "<style scoped>\n",
       "    .dataframe tbody tr th:only-of-type {\n",
       "        vertical-align: middle;\n",
       "    }\n",
       "\n",
       "    .dataframe tbody tr th {\n",
       "        vertical-align: top;\n",
       "    }\n",
       "\n",
       "    .dataframe thead th {\n",
       "        text-align: right;\n",
       "    }\n",
       "</style>\n",
       "<table border=\"1\" class=\"dataframe\">\n",
       "  <thead>\n",
       "    <tr style=\"text-align: right;\">\n",
       "      <th></th>\n",
       "      <th>name</th>\n",
       "      <th>platform</th>\n",
       "      <th>year_of_release</th>\n",
       "      <th>genre</th>\n",
       "      <th>na_sales</th>\n",
       "      <th>eu_sales</th>\n",
       "      <th>jp_sales</th>\n",
       "      <th>other_sales</th>\n",
       "      <th>critic_score</th>\n",
       "      <th>user_score</th>\n",
       "      <th>rating</th>\n",
       "      <th>sum_sales</th>\n",
       "    </tr>\n",
       "  </thead>\n",
       "  <tbody>\n",
       "    <tr>\n",
       "      <th>0</th>\n",
       "      <td>wii sports</td>\n",
       "      <td>wii</td>\n",
       "      <td>2006</td>\n",
       "      <td>sports</td>\n",
       "      <td>41.36</td>\n",
       "      <td>28.96</td>\n",
       "      <td>3.77</td>\n",
       "      <td>8.45</td>\n",
       "      <td>76.0</td>\n",
       "      <td>8.0</td>\n",
       "      <td>E</td>\n",
       "      <td>82.54</td>\n",
       "    </tr>\n",
       "  </tbody>\n",
       "</table>\n",
       "</div>"
      ],
      "text/plain": [
       "         name platform  year_of_release   genre  na_sales  eu_sales  jp_sales  \\\n",
       "0  wii sports      wii             2006  sports     41.36     28.96      3.77   \n",
       "\n",
       "   other_sales  critic_score  user_score rating  sum_sales  \n",
       "0         8.45          76.0         8.0      E      82.54  "
      ]
     },
     "execution_count": 191,
     "metadata": {},
     "output_type": "execute_result"
    }
   ],
   "source": [
    "# попробуем разобраться с выдающимся значением на предыдущем графике\n",
    "df[df['sum_sales'] > 60]"
   ]
  },
  {
   "cell_type": "markdown",
   "metadata": {},
   "source": [
    "\"Википедия     \n",
    "\n",
    "wii sports     \n",
    "\n",
    "Видеоигра, выпущенная компанией Nintendo для собственной игровой приставки Wii. Игра появилась в продаже вместе с приставкой, кроме того, за исключением Японии, она вложена прямо в коробку с Wii\"."
   ]
  },
  {
   "cell_type": "markdown",
   "metadata": {},
   "source": [
    "<span style='color:Blue'>Хотя в данном случае популярность игры обусловлена скорее популярностью платфоры, к которой она прилагалась, это нельзя назвать ошибкой в полной мере. </span>"
   ]
  },
  {
   "cell_type": "markdown",
   "metadata": {},
   "source": [
    "### Тенденции по платформам"
   ]
  },
  {
   "cell_type": "code",
   "execution_count": 192,
   "metadata": {},
   "outputs": [
    {
     "data": {
      "text/plain": [
       "ps2     2127\n",
       "ds      2120\n",
       "ps3     1306\n",
       "wii     1286\n",
       "x360    1232\n",
       "psp     1193\n",
       "pc       917\n",
       "gba      811\n",
       "xb       803\n",
       "gc       542\n",
       "3ds      512\n",
       "psv      429\n",
       "ps4      392\n",
       "ps       274\n",
       "xone     247\n",
       "wiiu     147\n",
       "n64       70\n",
       "dc        31\n",
       "gb        27\n",
       "ws         4\n",
       "Name: platform, dtype: int64"
      ]
     },
     "execution_count": 192,
     "metadata": {},
     "output_type": "execute_result"
    }
   ],
   "source": [
    "# Какие платформы представлены и какова их общая популярность?\n",
    "df['platform'].value_counts()"
   ]
  },
  {
   "cell_type": "code",
   "execution_count": 193,
   "metadata": {},
   "outputs": [
    {
     "data": {
      "text/plain": [
       "Text(0.5, 1.0, 'Динамика объемов продаж в разрезе игровых платформ \\n')"
      ]
     },
     "execution_count": 193,
     "metadata": {},
     "output_type": "execute_result"
    },
    {
     "data": {
      "image/png": "[encoded data removed]",
      "text/plain": [
       "<Figure size 1224x504 with 1 Axes>"
      ]
     },
     "metadata": {
      "needs_background": "light"
     },
     "output_type": "display_data"
    }
   ],
   "source": [
    "# Посмотрим как менялись продажи по отдельным наиболее популяпным платформам\n",
    "\n",
    "# сформируем таблицу продаж по годам и платформам\n",
    "platforms_sales = df.pivot_table(\n",
    "    index=(\"year_of_release\", \"platform\"), values=\"sum_sales\", aggfunc=\"sum\"\n",
    ").reset_index()\n",
    "\n",
    "# обрежем 2016г. т.к. данные за него могут быть не полными\n",
    "platforms_sales = platforms_sales.query(\"year_of_release < 2016\")\n",
    "\n",
    "platforms_group_1 = pd.Series([\"ps3\", \"wii\", \"x360\", \"psp\", \"ds\"])\n",
    "ax1 = platforms_sales.query('platform == \"ps2\"').plot(\n",
    "    x=\"year_of_release\", y=\"sum_sales\", figsize=(17, 7), label=\"ps2\"\n",
    ")\n",
    "for platf in platforms_group_1:\n",
    "    platforms_sales.query(\"platform == @platf\").plot(\n",
    "        x=\"year_of_release\", y=\"sum_sales\", figsize=(17, 7), label=platf, ax=ax1\n",
    "    )\n",
    "plt.ylabel(\"Объем продаж (млн. копий)\")\n",
    "plt.xlabel(\"Год\")\n",
    "plt.title(\"Динамика объемов продаж в разрезе игровых платформ \\n\") "
   ]
  },
  {
   "cell_type": "markdown",
   "metadata": {},
   "source": [
    "<span style='color:Blue'> График наглядно демонстрирует, что все наиболее популярные платформы уже прошли свой пик, и к настоящему моменту не актуальны. Участок жизненного цикла от выхода до пика популярности составляет около 3-5 лет. Соответственно, наиболее перспективные игры стоит искать по платформам с момента выпуска которых прошло не более 2-х лет т.к. в дальнейшем объемы продаж могут существенно упасть. </span>"
   ]
  },
  {
   "cell_type": "code",
   "execution_count": 194,
   "metadata": {},
   "outputs": [
    {
     "data": {
      "text/plain": [
       "Text(0.5, 1.0, 'Динамика объемов продаж в разрезе игровых платформ \\n')"
      ]
     },
     "execution_count": 194,
     "metadata": {},
     "output_type": "execute_result"
    },
    {
     "data": {
      "image/png": "[encoded data removed]",
      "text/plain": [
       "<Figure size 1224x504 with 1 Axes>"
      ]
     },
     "metadata": {
      "needs_background": "light"
     },
     "output_type": "display_data"
    }
   ],
   "source": [
    "# посмотрим, есть ли растущие платформы, среди оставшихся\n",
    "platforms_group_2 = pd.Series(\n",
    "    [\"gba\", \"xb\", \"gc\", \"3ds\", \"psv\", \"ps4\", \"ps\", \"xone\", \"wiiu\"]\n",
    ")\n",
    "ax1 = platforms_sales.query('platform == \"pc\"').plot(\n",
    "    x=\"year_of_release\", y=\"sum_sales\", figsize=(17, 7), label=\"pc\"\n",
    ")\n",
    "for platf in platforms_group_2:\n",
    "    platforms_sales.query(\"platform == @platf\").plot(\n",
    "        x=\"year_of_release\", y=\"sum_sales\", figsize=(17, 7), label=platf, ax=ax1\n",
    "    )\n",
    "plt.ylabel(\"Объем продаж (млн. копий)\")\n",
    "plt.xlabel(\"Год\")\n",
    "plt.title(\"Динамика объемов продаж в разрезе игровых платформ \\n\")"
   ]
  },
  {
   "cell_type": "markdown",
   "metadata": {},
   "source": [
    "<span style='color:Blue'> На этапе роста находятся продажи игр для ps4 и xone(Xbox One). Они и будут фаворитными платформами при выборе игры. Причем у ps4 приоритет из-за бОльших объемов продаж. </span>\n",
    "\n",
    "<span style='color:Blue'> Стоит обратить особое внимание на то, что 'рс' - personal computer. Жизненный цикл персонального помпьютера нельзя сравнивать с циклом игровых приставок. Продажи игр для ПК всегда относительно малы, но очень стабильны. </span>\n",
    "\n",
    "<span style='color:Blue'> Последний график наглядно демонстрирует актуальный период для анализа по платформам - примерно последние 3 года. В нашем случае с 2014г. </span>"
   ]
  },
  {
   "cell_type": "code",
   "execution_count": 195,
   "metadata": {},
   "outputs": [
    {
     "data": {
      "text/plain": [
       "Text(0.5, 1.0, 'Распределение объемов продаж отдельных игр в разрезе игровых платформ')"
      ]
     },
     "execution_count": 195,
     "metadata": {},
     "output_type": "execute_result"
    },
    {
     "data": {
      "image/png": "[encoded data removed]",
      "text/plain": [
       "<Figure size 1080x360 with 1 Axes>"
      ]
     },
     "metadata": {
      "needs_background": "light"
     },
     "output_type": "display_data"
    }
   ],
   "source": [
    "# Построим график «ящик с усами» по глобальным продажам игр в разбивке по платформам за последние 5 лет с 2012г.\n",
    "df.query('year_of_release >= 2014').boxplot(column='sum_sales', by='platform', figsize=(15,5))\n",
    "plt.ylim(0, 5)\n",
    "plt.ylabel('Объем продаж (млн. копий)')\n",
    "plt.xlabel('Платформа')\n",
    "plt.title('Распределение объемов продаж отдельных игр в разрезе игровых платформ')"
   ]
  },
  {
   "cell_type": "markdown",
   "metadata": {},
   "source": [
    "<span style='color:Blue'> Среди лидеров продаж за последние 5 лет в диаграмме размаха находятся и растущие(ps4, XOne)и уходящие(ps3, x360, wii)уходящие платформы. Это еще раз подчеркивает необходимость учитывать этап жизненного цикла платформы при выборе игры. </span>\n",
    "\n",
    "<span style='color:Blue'> Продажи по платформам сильно скошены в большую сторону относительно средних значений. Это значит, что есть большой набор игр сильно выделяющихся объемами продаж. По всем платформам основной объем игр продается в пределах 2 млн. экз., но есть выдающиеся. Возможно, стоит поискать характерные черты этих выдающихся игр.</span>"
   ]
  },
  {
   "cell_type": "code",
   "execution_count": 196,
   "metadata": {},
   "outputs": [
    {
     "data": {
      "text/plain": [
       "0.3945748380247344"
      ]
     },
     "execution_count": 196,
     "metadata": {},
     "output_type": "execute_result"
    },
    {
     "data": {
      "image/png": "[encoded data removed]",
      "text/plain": [
       "<Figure size 1080x360 with 1 Axes>"
      ]
     },
     "metadata": {
      "needs_background": "light"
     },
     "output_type": "display_data"
    }
   ],
   "source": [
    "# Попробуем выяснить, есть ли связь между отзывами и продажами для наиболее перспективных платформ: ps4, XOne.\n",
    "\n",
    "# сначала для оценок критиков\n",
    "df.query('platform == \"ps4\" or platform == \"xone\"').plot(\n",
    "    x=\"sum_sales\", y=\"critic_score\", kind=\"scatter\", figsize=(15, 5)\n",
    ")\n",
    "plt.ylabel(\"Оценка критиков (баллы)\")\n",
    "plt.xlabel(\"Объем продаж (млн. копий)\")\n",
    "plt.title('Зависимость объемов продаж от оценки критиков для \"ps4\" и \"xone\"')\n",
    "\n",
    "# Оценим корреляцию\n",
    "df.query('platform == \"ps4\" or platform == \"xone\"')[\"sum_sales\"].corr(\n",
    "    df.query('platform == \"ps4\" or platform == \"xone\"')[\"critic_score\"]\n",
    ")\n"
   ]
  },
  {
   "cell_type": "markdown",
   "metadata": {},
   "source": [
    "<span style='color:Blue'> Высокий рейтинг не гарантирует хороших продаж, но дает на них шанс. Лучше не выбирать для продажи игры с рейтингом ниже 60 </span>"
   ]
  },
  {
   "cell_type": "code",
   "execution_count": 197,
   "metadata": {},
   "outputs": [
    {
     "data": {
      "text/plain": [
       "-0.035968225477893745"
      ]
     },
     "execution_count": 197,
     "metadata": {},
     "output_type": "execute_result"
    },
    {
     "data": {
      "image/png": "[encoded data removed]",
      "text/plain": [
       "<Figure size 1080x360 with 1 Axes>"
      ]
     },
     "metadata": {
      "needs_background": "light"
     },
     "output_type": "display_data"
    }
   ],
   "source": [
    "# теперь для оценок пользователей\n",
    "df.query('platform == \"ps4\" or platform == \"xone\"').plot(\n",
    "    x=\"sum_sales\", y=\"user_score\", kind=\"scatter\", figsize=(15, 5)\n",
    ")\n",
    "plt.ylabel(\"Оценка пользователей (баллы)\")\n",
    "plt.xlabel(\"Объем продаж (млн. копий)\")\n",
    "plt.title('Зависимость объемов продаж от оценки пользователей для \"ps4\" и \"xone\"')\n",
    "\n",
    "# оценим корреляцию\n",
    "df.query('platform == \"ps4\" or platform == \"xone\"')[\"sum_sales\"].corr(\n",
    "    df.query('platform == \"ps4\" or platform == \"xone\"')[\"user_score\"]\n",
    ")\n"
   ]
  },
  {
   "cell_type": "markdown",
   "metadata": {},
   "source": [
    "<span style='color:Blue'> Связь практически отсутствует. С оценкой выше 3 баллов уже есть шанс получить отличные продажи. Оценка пользователей -  последнее, на что можно обращать внимание. </span>"
   ]
  },
  {
   "cell_type": "markdown",
   "metadata": {},
   "source": [
    "<span style='color:Blue'> Ситуация по связи продаж с оценками пользователей и критиков соответствует на перспективных платформах ps4, XOne и по рынку в целом. </span>"
   ]
  },
  {
   "cell_type": "markdown",
   "metadata": {},
   "source": [
    "### Тенденции по жанрам"
   ]
  },
  {
   "cell_type": "markdown",
   "metadata": {},
   "source": [
    " \n",
    "Что можно сказать о самых прибыльных жанрах? \n",
    "Выделяются ли жанры с высокими и низкими продажами?\n",
    "Есть ли у жанра жизненный цикл?"
   ]
  },
  {
   "cell_type": "code",
   "execution_count": 198,
   "metadata": {},
   "outputs": [
    {
     "data": {
      "text/html": [
       "<div>\n",
       "<style scoped>\n",
       "    .dataframe tbody tr th:only-of-type {\n",
       "        vertical-align: middle;\n",
       "    }\n",
       "\n",
       "    .dataframe tbody tr th {\n",
       "        vertical-align: top;\n",
       "    }\n",
       "\n",
       "    .dataframe thead th {\n",
       "        text-align: right;\n",
       "    }\n",
       "</style>\n",
       "<table border=\"1\" class=\"dataframe\">\n",
       "  <thead>\n",
       "    <tr style=\"text-align: right;\">\n",
       "      <th></th>\n",
       "      <th>genre</th>\n",
       "      <th>games_counts</th>\n",
       "    </tr>\n",
       "  </thead>\n",
       "  <tbody>\n",
       "    <tr>\n",
       "      <th>0</th>\n",
       "      <td>action</td>\n",
       "      <td>619</td>\n",
       "    </tr>\n",
       "    <tr>\n",
       "      <th>1</th>\n",
       "      <td>role-playing</td>\n",
       "      <td>221</td>\n",
       "    </tr>\n",
       "    <tr>\n",
       "      <th>2</th>\n",
       "      <td>adventure</td>\n",
       "      <td>185</td>\n",
       "    </tr>\n",
       "    <tr>\n",
       "      <th>3</th>\n",
       "      <td>sports</td>\n",
       "      <td>161</td>\n",
       "    </tr>\n",
       "    <tr>\n",
       "      <th>4</th>\n",
       "      <td>shooter</td>\n",
       "      <td>128</td>\n",
       "    </tr>\n",
       "    <tr>\n",
       "      <th>5</th>\n",
       "      <td>misc</td>\n",
       "      <td>113</td>\n",
       "    </tr>\n",
       "    <tr>\n",
       "      <th>6</th>\n",
       "      <td>racing</td>\n",
       "      <td>69</td>\n",
       "    </tr>\n",
       "    <tr>\n",
       "      <th>7</th>\n",
       "      <td>fighting</td>\n",
       "      <td>60</td>\n",
       "    </tr>\n",
       "    <tr>\n",
       "      <th>8</th>\n",
       "      <td>simulation</td>\n",
       "      <td>44</td>\n",
       "    </tr>\n",
       "    <tr>\n",
       "      <th>9</th>\n",
       "      <td>platform</td>\n",
       "      <td>38</td>\n",
       "    </tr>\n",
       "    <tr>\n",
       "      <th>10</th>\n",
       "      <td>strategy</td>\n",
       "      <td>37</td>\n",
       "    </tr>\n",
       "    <tr>\n",
       "      <th>11</th>\n",
       "      <td>puzzle</td>\n",
       "      <td>14</td>\n",
       "    </tr>\n",
       "  </tbody>\n",
       "</table>\n",
       "</div>"
      ],
      "text/plain": [
       "           genre  games_counts\n",
       "0         action           619\n",
       "1   role-playing           221\n",
       "2      adventure           185\n",
       "3         sports           161\n",
       "4        shooter           128\n",
       "5           misc           113\n",
       "6         racing            69\n",
       "7       fighting            60\n",
       "8     simulation            44\n",
       "9       platform            38\n",
       "10      strategy            37\n",
       "11        puzzle            14"
      ]
     },
     "execution_count": 198,
     "metadata": {},
     "output_type": "execute_result"
    }
   ],
   "source": [
    "# Посмотрим на общее распределение выпущенных игр по жанрам c 2014г.\n",
    "genres_production = pd.DataFrame(df.query('year_of_release >= 2014')['genre'].value_counts()).reset_index()\n",
    "genres_production.columns = ['genre','games_counts']\n",
    "genres_production"
   ]
  },
  {
   "cell_type": "markdown",
   "metadata": {},
   "source": [
    "<span style='color:Blue'> Самые популярные игры среди разработчиков:     \n",
    "action          \n",
    "role-playing    \n",
    "adventure       \n",
    "sports          \n",
    "shooter   </span>"
   ]
  },
  {
   "cell_type": "code",
   "execution_count": 199,
   "metadata": {},
   "outputs": [
    {
     "data": {
      "text/html": [
       "<div>\n",
       "<style scoped>\n",
       "    .dataframe tbody tr th:only-of-type {\n",
       "        vertical-align: middle;\n",
       "    }\n",
       "\n",
       "    .dataframe tbody tr th {\n",
       "        vertical-align: top;\n",
       "    }\n",
       "\n",
       "    .dataframe thead th {\n",
       "        text-align: right;\n",
       "    }\n",
       "</style>\n",
       "<table border=\"1\" class=\"dataframe\">\n",
       "  <thead>\n",
       "    <tr style=\"text-align: right;\">\n",
       "      <th></th>\n",
       "      <th>genre</th>\n",
       "      <th>sum_sales</th>\n",
       "    </tr>\n",
       "  </thead>\n",
       "  <tbody>\n",
       "    <tr>\n",
       "      <th>0</th>\n",
       "      <td>action</td>\n",
       "      <td>199.36</td>\n",
       "    </tr>\n",
       "    <tr>\n",
       "      <th>1</th>\n",
       "      <td>shooter</td>\n",
       "      <td>170.94</td>\n",
       "    </tr>\n",
       "    <tr>\n",
       "      <th>2</th>\n",
       "      <td>sports</td>\n",
       "      <td>109.48</td>\n",
       "    </tr>\n",
       "    <tr>\n",
       "      <th>3</th>\n",
       "      <td>role-playing</td>\n",
       "      <td>101.44</td>\n",
       "    </tr>\n",
       "    <tr>\n",
       "      <th>4</th>\n",
       "      <td>misc</td>\n",
       "      <td>37.55</td>\n",
       "    </tr>\n",
       "    <tr>\n",
       "      <th>5</th>\n",
       "      <td>fighting</td>\n",
       "      <td>28.22</td>\n",
       "    </tr>\n",
       "    <tr>\n",
       "      <th>6</th>\n",
       "      <td>racing</td>\n",
       "      <td>27.52</td>\n",
       "    </tr>\n",
       "    <tr>\n",
       "      <th>7</th>\n",
       "      <td>platform</td>\n",
       "      <td>18.09</td>\n",
       "    </tr>\n",
       "    <tr>\n",
       "      <th>8</th>\n",
       "      <td>adventure</td>\n",
       "      <td>17.55</td>\n",
       "    </tr>\n",
       "    <tr>\n",
       "      <th>9</th>\n",
       "      <td>simulation</td>\n",
       "      <td>13.13</td>\n",
       "    </tr>\n",
       "    <tr>\n",
       "      <th>10</th>\n",
       "      <td>strategy</td>\n",
       "      <td>3.96</td>\n",
       "    </tr>\n",
       "    <tr>\n",
       "      <th>11</th>\n",
       "      <td>puzzle</td>\n",
       "      <td>2.21</td>\n",
       "    </tr>\n",
       "  </tbody>\n",
       "</table>\n",
       "</div>"
      ],
      "text/plain": [
       "           genre  sum_sales\n",
       "0         action     199.36\n",
       "1        shooter     170.94\n",
       "2         sports     109.48\n",
       "3   role-playing     101.44\n",
       "4           misc      37.55\n",
       "5       fighting      28.22\n",
       "6         racing      27.52\n",
       "7       platform      18.09\n",
       "8      adventure      17.55\n",
       "9     simulation      13.13\n",
       "10      strategy       3.96\n",
       "11        puzzle       2.21"
      ]
     },
     "execution_count": 199,
     "metadata": {},
     "output_type": "execute_result"
    }
   ],
   "source": [
    "# Сформируем данные по жанрам и годам\n",
    "genres_data = df.pivot_table(\n",
    "    index=(\"year_of_release\", \"genre\"), values=\"sum_sales\", aggfunc=\"sum\"\n",
    ").reset_index()\n",
    "\n",
    "# Обрежем период теми же актуальными сроками, которые были выявлены на данных о платформах\n",
    "genres_data = genres_data.query(\"year_of_release >= 2014\").reset_index(drop=True)\n",
    "# genres_data.head()\n",
    "\n",
    "# Посмотрим на общее распределение продаж по жанрам.\n",
    "genres_consumption = (\n",
    "    genres_data.pivot_table(index=\"genre\", values=\"sum_sales\", aggfunc=\"sum\")\n",
    "    .sort_values(by=\"sum_sales\", ascending=False)\n",
    "    .reset_index()\n",
    ")\n",
    "genres_consumption"
   ]
  },
  {
   "cell_type": "markdown",
   "metadata": {},
   "source": [
    "<span style='color:Blue'> Самые большие объемы продаж в жанрах:     \n",
    "action   \n",
    "shooter    \n",
    "sports    \n",
    "role-playing        \n",
    "fighting \t\n",
    "racing         \n",
    "Видим что данные по предпочтениям разработчиков и потребителей не совсем совпадают.\n",
    "   </span>\n",
    "\n",
    "<span style='color:Blue'>     \n",
    "В списке выше намеренно не указан misc, т.к. это не жанр, а общее обозначение для всех внежанровых игр.\n",
    "</span>"
   ]
  },
  {
   "cell_type": "markdown",
   "metadata": {},
   "source": [
    "<span style='color:Blue'>     \n",
    "Проблема определения продаваемости жанров заключается в том, что количество игр выпущенных для данного жанра может влиять на суммарный объем продаж. Для определения наиболее привлекательных жанров было бы неплохо дополнительно понимать сколько продаж пришлось в среднем на одну игру данного жанра.\n",
    "</span>"
   ]
  },
  {
   "cell_type": "code",
   "execution_count": 200,
   "metadata": {},
   "outputs": [
    {
     "data": {
      "text/html": [
       "<div>\n",
       "<style scoped>\n",
       "    .dataframe tbody tr th:only-of-type {\n",
       "        vertical-align: middle;\n",
       "    }\n",
       "\n",
       "    .dataframe tbody tr th {\n",
       "        vertical-align: top;\n",
       "    }\n",
       "\n",
       "    .dataframe thead th {\n",
       "        text-align: right;\n",
       "    }\n",
       "</style>\n",
       "<table border=\"1\" class=\"dataframe\">\n",
       "  <thead>\n",
       "    <tr style=\"text-align: right;\">\n",
       "      <th></th>\n",
       "      <th>genre</th>\n",
       "      <th>games_counts</th>\n",
       "      <th>sum_sales</th>\n",
       "      <th>sales_by_game</th>\n",
       "    </tr>\n",
       "  </thead>\n",
       "  <tbody>\n",
       "    <tr>\n",
       "      <th>4</th>\n",
       "      <td>shooter</td>\n",
       "      <td>128</td>\n",
       "      <td>170.94</td>\n",
       "      <td>1.335469</td>\n",
       "    </tr>\n",
       "    <tr>\n",
       "      <th>3</th>\n",
       "      <td>sports</td>\n",
       "      <td>161</td>\n",
       "      <td>109.48</td>\n",
       "      <td>0.680000</td>\n",
       "    </tr>\n",
       "    <tr>\n",
       "      <th>9</th>\n",
       "      <td>platform</td>\n",
       "      <td>38</td>\n",
       "      <td>18.09</td>\n",
       "      <td>0.476053</td>\n",
       "    </tr>\n",
       "    <tr>\n",
       "      <th>7</th>\n",
       "      <td>fighting</td>\n",
       "      <td>60</td>\n",
       "      <td>28.22</td>\n",
       "      <td>0.470333</td>\n",
       "    </tr>\n",
       "    <tr>\n",
       "      <th>1</th>\n",
       "      <td>role-playing</td>\n",
       "      <td>221</td>\n",
       "      <td>101.44</td>\n",
       "      <td>0.459005</td>\n",
       "    </tr>\n",
       "    <tr>\n",
       "      <th>6</th>\n",
       "      <td>racing</td>\n",
       "      <td>69</td>\n",
       "      <td>27.52</td>\n",
       "      <td>0.398841</td>\n",
       "    </tr>\n",
       "    <tr>\n",
       "      <th>5</th>\n",
       "      <td>misc</td>\n",
       "      <td>113</td>\n",
       "      <td>37.55</td>\n",
       "      <td>0.332301</td>\n",
       "    </tr>\n",
       "    <tr>\n",
       "      <th>0</th>\n",
       "      <td>action</td>\n",
       "      <td>619</td>\n",
       "      <td>199.36</td>\n",
       "      <td>0.322068</td>\n",
       "    </tr>\n",
       "    <tr>\n",
       "      <th>8</th>\n",
       "      <td>simulation</td>\n",
       "      <td>44</td>\n",
       "      <td>13.13</td>\n",
       "      <td>0.298409</td>\n",
       "    </tr>\n",
       "    <tr>\n",
       "      <th>11</th>\n",
       "      <td>puzzle</td>\n",
       "      <td>14</td>\n",
       "      <td>2.21</td>\n",
       "      <td>0.157857</td>\n",
       "    </tr>\n",
       "    <tr>\n",
       "      <th>10</th>\n",
       "      <td>strategy</td>\n",
       "      <td>37</td>\n",
       "      <td>3.96</td>\n",
       "      <td>0.107027</td>\n",
       "    </tr>\n",
       "    <tr>\n",
       "      <th>2</th>\n",
       "      <td>adventure</td>\n",
       "      <td>185</td>\n",
       "      <td>17.55</td>\n",
       "      <td>0.094865</td>\n",
       "    </tr>\n",
       "  </tbody>\n",
       "</table>\n",
       "</div>"
      ],
      "text/plain": [
       "           genre  games_counts  sum_sales  sales_by_game\n",
       "4        shooter           128     170.94       1.335469\n",
       "3         sports           161     109.48       0.680000\n",
       "9       platform            38      18.09       0.476053\n",
       "7       fighting            60      28.22       0.470333\n",
       "1   role-playing           221     101.44       0.459005\n",
       "6         racing            69      27.52       0.398841\n",
       "5           misc           113      37.55       0.332301\n",
       "0         action           619     199.36       0.322068\n",
       "8     simulation            44      13.13       0.298409\n",
       "11        puzzle            14       2.21       0.157857\n",
       "10      strategy            37       3.96       0.107027\n",
       "2      adventure           185      17.55       0.094865"
      ]
     },
     "execution_count": 200,
     "metadata": {},
     "output_type": "execute_result"
    }
   ],
   "source": [
    "# Объеденим таблицы с количеством выпущенных и проданных игр по жанру.\n",
    "genres_metrics = genres_production.merge(genres_consumption)\n",
    "\n",
    "# Посчитаем средние продажи на каждую игру данного жанра\n",
    "genres_metrics['sales_by_game'] = genres_metrics['sum_sales'] / genres_metrics['games_counts']\n",
    "genres_metrics.sort_values(by='sales_by_game', ascending=False)"
   ]
  },
  {
   "cell_type": "markdown",
   "metadata": {},
   "source": [
    "<span style='color:Blue'>     \n",
    "В расчете на одну игру, наибольшие шансы на хорошие продажи оказались у шутеров и спортивных игр. Заметим, что игры action оказались далеко позади. Вероятно, это связано с тем, что их выпуск почти в три раза больше, чем у ближайшего конкурента, и далеко не все они имеют хорошие продажи. Для нас это значит, что выбирая для продажи конкретную игру, к action нужно относиться с осторожностью из-за большой конкуренции в жанре. Учитывая, что игр shooter выпускается почти в 5 раз меньше чем action, а по совокупным продажам они занимают второе место, то жанр shooter выглядит наиболее предпочтительным.\n",
    "</span>"
   ]
  },
  {
   "cell_type": "markdown",
   "metadata": {},
   "source": [
    "### Портрет пользователя по регионам (NA, EU, JP)"
   ]
  },
  {
   "cell_type": "code",
   "execution_count": 201,
   "metadata": {},
   "outputs": [
    {
     "name": "stdout",
     "output_type": "stream",
     "text": [
      "Самые популярные платформы Северной Америки(топ-5):\n"
     ]
    },
    {
     "data": {
      "text/html": [
       "<div>\n",
       "<style scoped>\n",
       "    .dataframe tbody tr th:only-of-type {\n",
       "        vertical-align: middle;\n",
       "    }\n",
       "\n",
       "    .dataframe tbody tr th {\n",
       "        vertical-align: top;\n",
       "    }\n",
       "\n",
       "    .dataframe thead th {\n",
       "        text-align: right;\n",
       "    }\n",
       "</style>\n",
       "<table border=\"1\" class=\"dataframe\">\n",
       "  <thead>\n",
       "    <tr style=\"text-align: right;\">\n",
       "      <th></th>\n",
       "      <th>platform</th>\n",
       "      <th>na_sales</th>\n",
       "      <th>proportion</th>\n",
       "    </tr>\n",
       "  </thead>\n",
       "  <tbody>\n",
       "    <tr>\n",
       "      <th>0</th>\n",
       "      <td>ps4</td>\n",
       "      <td>98.61</td>\n",
       "      <td>0.347145</td>\n",
       "    </tr>\n",
       "    <tr>\n",
       "      <th>1</th>\n",
       "      <td>xone</td>\n",
       "      <td>81.27</td>\n",
       "      <td>0.286102</td>\n",
       "    </tr>\n",
       "    <tr>\n",
       "      <th>2</th>\n",
       "      <td>x360</td>\n",
       "      <td>28.30</td>\n",
       "      <td>0.099627</td>\n",
       "    </tr>\n",
       "    <tr>\n",
       "      <th>3</th>\n",
       "      <td>3ds</td>\n",
       "      <td>22.64</td>\n",
       "      <td>0.079701</td>\n",
       "    </tr>\n",
       "    <tr>\n",
       "      <th>4</th>\n",
       "      <td>ps3</td>\n",
       "      <td>22.05</td>\n",
       "      <td>0.077624</td>\n",
       "    </tr>\n",
       "  </tbody>\n",
       "</table>\n",
       "</div>"
      ],
      "text/plain": [
       "  platform  na_sales  proportion\n",
       "0      ps4     98.61    0.347145\n",
       "1     xone     81.27    0.286102\n",
       "2     x360     28.30    0.099627\n",
       "3      3ds     22.64    0.079701\n",
       "4      ps3     22.05    0.077624"
      ]
     },
     "metadata": {},
     "output_type": "display_data"
    },
    {
     "name": "stdout",
     "output_type": "stream",
     "text": [
      "Самые популярные платформы Европы:\n"
     ]
    },
    {
     "data": {
      "text/html": [
       "<div>\n",
       "<style scoped>\n",
       "    .dataframe tbody tr th:only-of-type {\n",
       "        vertical-align: middle;\n",
       "    }\n",
       "\n",
       "    .dataframe tbody tr th {\n",
       "        vertical-align: top;\n",
       "    }\n",
       "\n",
       "    .dataframe thead th {\n",
       "        text-align: right;\n",
       "    }\n",
       "</style>\n",
       "<table border=\"1\" class=\"dataframe\">\n",
       "  <thead>\n",
       "    <tr style=\"text-align: right;\">\n",
       "      <th></th>\n",
       "      <th>platform</th>\n",
       "      <th>eu_sales</th>\n",
       "      <th>proportion</th>\n",
       "    </tr>\n",
       "  </thead>\n",
       "  <tbody>\n",
       "    <tr>\n",
       "      <th>0</th>\n",
       "      <td>ps4</td>\n",
       "      <td>130.04</td>\n",
       "      <td>0.480420</td>\n",
       "    </tr>\n",
       "    <tr>\n",
       "      <th>1</th>\n",
       "      <td>xone</td>\n",
       "      <td>46.25</td>\n",
       "      <td>0.170866</td>\n",
       "    </tr>\n",
       "    <tr>\n",
       "      <th>2</th>\n",
       "      <td>ps3</td>\n",
       "      <td>25.54</td>\n",
       "      <td>0.094355</td>\n",
       "    </tr>\n",
       "    <tr>\n",
       "      <th>3</th>\n",
       "      <td>pc</td>\n",
       "      <td>17.97</td>\n",
       "      <td>0.066388</td>\n",
       "    </tr>\n",
       "    <tr>\n",
       "      <th>4</th>\n",
       "      <td>3ds</td>\n",
       "      <td>16.12</td>\n",
       "      <td>0.059554</td>\n",
       "    </tr>\n",
       "  </tbody>\n",
       "</table>\n",
       "</div>"
      ],
      "text/plain": [
       "  platform  eu_sales  proportion\n",
       "0      ps4    130.04    0.480420\n",
       "1     xone     46.25    0.170866\n",
       "2      ps3     25.54    0.094355\n",
       "3       pc     17.97    0.066388\n",
       "4      3ds     16.12    0.059554"
      ]
     },
     "metadata": {},
     "output_type": "display_data"
    },
    {
     "name": "stdout",
     "output_type": "stream",
     "text": [
      "Самые популярные платформы Японии:\n"
     ]
    },
    {
     "data": {
      "text/html": [
       "<div>\n",
       "<style scoped>\n",
       "    .dataframe tbody tr th:only-of-type {\n",
       "        vertical-align: middle;\n",
       "    }\n",
       "\n",
       "    .dataframe tbody tr th {\n",
       "        vertical-align: top;\n",
       "    }\n",
       "\n",
       "    .dataframe thead th {\n",
       "        text-align: right;\n",
       "    }\n",
       "</style>\n",
       "<table border=\"1\" class=\"dataframe\">\n",
       "  <thead>\n",
       "    <tr style=\"text-align: right;\">\n",
       "      <th></th>\n",
       "      <th>platform</th>\n",
       "      <th>jp_sales</th>\n",
       "      <th>proportion</th>\n",
       "    </tr>\n",
       "  </thead>\n",
       "  <tbody>\n",
       "    <tr>\n",
       "      <th>0</th>\n",
       "      <td>3ds</td>\n",
       "      <td>44.24</td>\n",
       "      <td>0.475239</td>\n",
       "    </tr>\n",
       "    <tr>\n",
       "      <th>1</th>\n",
       "      <td>ps4</td>\n",
       "      <td>15.02</td>\n",
       "      <td>0.161349</td>\n",
       "    </tr>\n",
       "    <tr>\n",
       "      <th>2</th>\n",
       "      <td>psv</td>\n",
       "      <td>14.54</td>\n",
       "      <td>0.156193</td>\n",
       "    </tr>\n",
       "    <tr>\n",
       "      <th>3</th>\n",
       "      <td>ps3</td>\n",
       "      <td>11.22</td>\n",
       "      <td>0.120529</td>\n",
       "    </tr>\n",
       "    <tr>\n",
       "      <th>4</th>\n",
       "      <td>wiiu</td>\n",
       "      <td>7.31</td>\n",
       "      <td>0.078526</td>\n",
       "    </tr>\n",
       "  </tbody>\n",
       "</table>\n",
       "</div>"
      ],
      "text/plain": [
       "  platform  jp_sales  proportion\n",
       "0      3ds     44.24    0.475239\n",
       "1      ps4     15.02    0.161349\n",
       "2      psv     14.54    0.156193\n",
       "3      ps3     11.22    0.120529\n",
       "4     wiiu      7.31    0.078526"
      ]
     },
     "metadata": {},
     "output_type": "display_data"
    }
   ],
   "source": [
    "# Самые популярные платформы Северной Америки(топ-5)\n",
    "\n",
    "# Сформируем данные по продажам в NA с 2014г. по платформам\n",
    "na_sales_by_platform = df.query(\"year_of_release >= 2014\").pivot_table(\n",
    "    index=\"platform\", values=\"na_sales\", aggfunc=\"sum\"\n",
    ")\n",
    "\n",
    "# Отсортируем и перенесем платформы из индексов в отдельную колонку\n",
    "na_sales_by_platform = na_sales_by_platform.sort_values(\n",
    "    by=\"na_sales\", ascending=False\n",
    ").reset_index()\n",
    "\n",
    "# Посчитаем доли от общего объема продаж по региону в отдельную колонку\n",
    "na_sales_sum = na_sales_by_platform[\"na_sales\"].sum()\n",
    "na_sales_by_platform[\"proportion\"] = na_sales_by_platform[\"na_sales\"] / na_sales_sum\n",
    "print(\"Самые популярные платформы Северной Америки(топ-5):\")\n",
    "display(na_sales_by_platform.head())\n",
    "\n",
    "\n",
    "# Самые популярные платформы Европы(топ-5)\n",
    "\n",
    "# Сформируем данные по продажам в EU с 2014г. по платформам\n",
    "eu_sales_by_platform = df.query(\"year_of_release >= 2014\").pivot_table(\n",
    "    index=\"platform\", values=\"eu_sales\", aggfunc=\"sum\"\n",
    ")\n",
    "\n",
    "# Отсортируем и перенесем платформы из индексов в отдельную колонку\n",
    "eu_sales_by_platform = eu_sales_by_platform.sort_values(\n",
    "    by=\"eu_sales\", ascending=False\n",
    ").reset_index()\n",
    "\n",
    "# Посчитаем доли от общего объема продаж по региону в отдельную колонку\n",
    "eu_sales_sum = eu_sales_by_platform[\"eu_sales\"].sum()\n",
    "eu_sales_by_platform[\"proportion\"] = eu_sales_by_platform[\"eu_sales\"] / eu_sales_sum\n",
    "print(\"Самые популярные платформы Европы:\")\n",
    "display(eu_sales_by_platform.head())\n",
    "\n",
    "\n",
    "# Самые популярные платформы Японии(топ-5)\n",
    "\n",
    "# Сформируем данные по продажам в JP с 2014г. по платформам\n",
    "jp_sales_by_platform = df.query(\"year_of_release >= 2014\").pivot_table(\n",
    "    index=\"platform\", values=\"jp_sales\", aggfunc=\"sum\"\n",
    ")\n",
    "\n",
    "# Отсортируем и перенесем платформы из индексов в отдельную колонку\n",
    "jp_sales_by_platform = jp_sales_by_platform.sort_values(\n",
    "    by=\"jp_sales\", ascending=False\n",
    ").reset_index()\n",
    "\n",
    "# Посчитаем доли от общего объема продаж по региону в отдельную колонку\n",
    "jp_sales_sum = jp_sales_by_platform[\"jp_sales\"].sum()\n",
    "jp_sales_by_platform[\"proportion\"] = jp_sales_by_platform[\"jp_sales\"] / jp_sales_sum\n",
    "print(\"Самые популярные платформы Японии:\")\n",
    "display(jp_sales_by_platform.head())"
   ]
  },
  {
   "cell_type": "markdown",
   "metadata": {},
   "source": [
    "<span style='color:Blue'> Основная доля продаж игр в Северной Америке и в Европе приходится на платформы ps4 и XOne. При этом доля ps4 в Европе значительно выше.\n",
    "\n",
    "    \n",
    "<span style='color:Blue'> Рынок Японии обладает сильной спецификой. Лидирующие позиции на нем c большим отрывом занимают игры для портативной игровой консоли Nintendo 3DS. PS4 занимает лишь второе место, а XOne вообще не представлена в пятерке лидеров."
   ]
  },
  {
   "cell_type": "code",
   "execution_count": 202,
   "metadata": {},
   "outputs": [
    {
     "name": "stdout",
     "output_type": "stream",
     "text": [
      "Самые популярные жанры Северной Америки(топ-5):\n"
     ]
    },
    {
     "data": {
      "text/html": [
       "<div>\n",
       "<style scoped>\n",
       "    .dataframe tbody tr th:only-of-type {\n",
       "        vertical-align: middle;\n",
       "    }\n",
       "\n",
       "    .dataframe tbody tr th {\n",
       "        vertical-align: top;\n",
       "    }\n",
       "\n",
       "    .dataframe thead th {\n",
       "        text-align: right;\n",
       "    }\n",
       "</style>\n",
       "<table border=\"1\" class=\"dataframe\">\n",
       "  <thead>\n",
       "    <tr style=\"text-align: right;\">\n",
       "      <th></th>\n",
       "      <th>genre</th>\n",
       "      <th>na_sales</th>\n",
       "      <th>proportion</th>\n",
       "    </tr>\n",
       "  </thead>\n",
       "  <tbody>\n",
       "    <tr>\n",
       "      <th>0</th>\n",
       "      <td>shooter</td>\n",
       "      <td>79.02</td>\n",
       "      <td>0.278181</td>\n",
       "    </tr>\n",
       "    <tr>\n",
       "      <th>1</th>\n",
       "      <td>action</td>\n",
       "      <td>72.53</td>\n",
       "      <td>0.255333</td>\n",
       "    </tr>\n",
       "    <tr>\n",
       "      <th>2</th>\n",
       "      <td>sports</td>\n",
       "      <td>46.13</td>\n",
       "      <td>0.162395</td>\n",
       "    </tr>\n",
       "    <tr>\n",
       "      <th>3</th>\n",
       "      <td>role-playing</td>\n",
       "      <td>33.47</td>\n",
       "      <td>0.117827</td>\n",
       "    </tr>\n",
       "    <tr>\n",
       "      <th>4</th>\n",
       "      <td>misc</td>\n",
       "      <td>15.05</td>\n",
       "      <td>0.052982</td>\n",
       "    </tr>\n",
       "  </tbody>\n",
       "</table>\n",
       "</div>"
      ],
      "text/plain": [
       "          genre  na_sales  proportion\n",
       "0       shooter     79.02    0.278181\n",
       "1        action     72.53    0.255333\n",
       "2        sports     46.13    0.162395\n",
       "3  role-playing     33.47    0.117827\n",
       "4          misc     15.05    0.052982"
      ]
     },
     "metadata": {},
     "output_type": "display_data"
    },
    {
     "name": "stdout",
     "output_type": "stream",
     "text": [
      "Самые популярные жанры Европы:\n"
     ]
    },
    {
     "data": {
      "text/html": [
       "<div>\n",
       "<style scoped>\n",
       "    .dataframe tbody tr th:only-of-type {\n",
       "        vertical-align: middle;\n",
       "    }\n",
       "\n",
       "    .dataframe tbody tr th {\n",
       "        vertical-align: top;\n",
       "    }\n",
       "\n",
       "    .dataframe thead th {\n",
       "        text-align: right;\n",
       "    }\n",
       "</style>\n",
       "<table border=\"1\" class=\"dataframe\">\n",
       "  <thead>\n",
       "    <tr style=\"text-align: right;\">\n",
       "      <th></th>\n",
       "      <th>genre</th>\n",
       "      <th>eu_sales</th>\n",
       "      <th>proportion</th>\n",
       "    </tr>\n",
       "  </thead>\n",
       "  <tbody>\n",
       "    <tr>\n",
       "      <th>0</th>\n",
       "      <td>action</td>\n",
       "      <td>74.68</td>\n",
       "      <td>0.275898</td>\n",
       "    </tr>\n",
       "    <tr>\n",
       "      <th>1</th>\n",
       "      <td>shooter</td>\n",
       "      <td>65.52</td>\n",
       "      <td>0.242057</td>\n",
       "    </tr>\n",
       "    <tr>\n",
       "      <th>2</th>\n",
       "      <td>sports</td>\n",
       "      <td>45.73</td>\n",
       "      <td>0.168945</td>\n",
       "    </tr>\n",
       "    <tr>\n",
       "      <th>3</th>\n",
       "      <td>role-playing</td>\n",
       "      <td>28.17</td>\n",
       "      <td>0.104071</td>\n",
       "    </tr>\n",
       "    <tr>\n",
       "      <th>4</th>\n",
       "      <td>racing</td>\n",
       "      <td>14.13</td>\n",
       "      <td>0.052202</td>\n",
       "    </tr>\n",
       "  </tbody>\n",
       "</table>\n",
       "</div>"
      ],
      "text/plain": [
       "          genre  eu_sales  proportion\n",
       "0        action     74.68    0.275898\n",
       "1       shooter     65.52    0.242057\n",
       "2        sports     45.73    0.168945\n",
       "3  role-playing     28.17    0.104071\n",
       "4        racing     14.13    0.052202"
      ]
     },
     "metadata": {},
     "output_type": "display_data"
    },
    {
     "name": "stdout",
     "output_type": "stream",
     "text": [
      "Самые популярные жанры Японии:\n"
     ]
    },
    {
     "data": {
      "text/html": [
       "<div>\n",
       "<style scoped>\n",
       "    .dataframe tbody tr th:only-of-type {\n",
       "        vertical-align: middle;\n",
       "    }\n",
       "\n",
       "    .dataframe tbody tr th {\n",
       "        vertical-align: top;\n",
       "    }\n",
       "\n",
       "    .dataframe thead th {\n",
       "        text-align: right;\n",
       "    }\n",
       "</style>\n",
       "<table border=\"1\" class=\"dataframe\">\n",
       "  <thead>\n",
       "    <tr style=\"text-align: right;\">\n",
       "      <th></th>\n",
       "      <th>genre</th>\n",
       "      <th>jp_sales</th>\n",
       "      <th>proportion</th>\n",
       "    </tr>\n",
       "  </thead>\n",
       "  <tbody>\n",
       "    <tr>\n",
       "      <th>0</th>\n",
       "      <td>role-playing</td>\n",
       "      <td>31.16</td>\n",
       "      <td>0.334730</td>\n",
       "    </tr>\n",
       "    <tr>\n",
       "      <th>1</th>\n",
       "      <td>action</td>\n",
       "      <td>29.58</td>\n",
       "      <td>0.317757</td>\n",
       "    </tr>\n",
       "    <tr>\n",
       "      <th>2</th>\n",
       "      <td>fighting</td>\n",
       "      <td>6.37</td>\n",
       "      <td>0.068428</td>\n",
       "    </tr>\n",
       "    <tr>\n",
       "      <th>3</th>\n",
       "      <td>misc</td>\n",
       "      <td>5.61</td>\n",
       "      <td>0.060264</td>\n",
       "    </tr>\n",
       "    <tr>\n",
       "      <th>4</th>\n",
       "      <td>shooter</td>\n",
       "      <td>4.87</td>\n",
       "      <td>0.052315</td>\n",
       "    </tr>\n",
       "  </tbody>\n",
       "</table>\n",
       "</div>"
      ],
      "text/plain": [
       "          genre  jp_sales  proportion\n",
       "0  role-playing     31.16    0.334730\n",
       "1        action     29.58    0.317757\n",
       "2      fighting      6.37    0.068428\n",
       "3          misc      5.61    0.060264\n",
       "4       shooter      4.87    0.052315"
      ]
     },
     "metadata": {},
     "output_type": "display_data"
    }
   ],
   "source": [
    "# Самые популярные жанры Северной Америки(топ-5)\n",
    "\n",
    "# Сформируем данные по продажам в NA с 2014г. по жанрам\n",
    "na_sales_by_genre = df.query(\"year_of_release >= 2014\").pivot_table(\n",
    "    index=\"genre\", values=\"na_sales\", aggfunc=\"sum\"\n",
    ")\n",
    "\n",
    "# Отсортируем и перенесем платформы из индексов в отдельную колонку\n",
    "na_sales_by_genre = na_sales_by_genre.sort_values(\n",
    "    by=\"na_sales\", ascending=False\n",
    ").reset_index()\n",
    "\n",
    "# Посчитаем доли от общего объема продаж по региону в отдельную колонку\n",
    "na_sales_sum = na_sales_by_genre[\"na_sales\"].sum()\n",
    "na_sales_by_genre[\"proportion\"] = na_sales_by_genre[\"na_sales\"] / na_sales_sum\n",
    "print(\"Самые популярные жанры Северной Америки(топ-5):\")\n",
    "display(na_sales_by_genre.head())\n",
    "\n",
    "\n",
    "# Самые популярные жанры Европы(топ-5)\n",
    "\n",
    "# Сформируем данные по продажам в EU с 2014г. по жанрам\n",
    "eu_sales_by_genre = df.query(\"year_of_release >= 2014\").pivot_table(\n",
    "    index=\"genre\", values=\"eu_sales\", aggfunc=\"sum\"\n",
    ")\n",
    "\n",
    "# Отсортируем и перенесем платформы из индексов в отдельную колонку\n",
    "eu_sales_by_genre = eu_sales_by_genre.sort_values(\n",
    "    by=\"eu_sales\", ascending=False\n",
    ").reset_index()\n",
    "\n",
    "# Посчитаем доли от общего объема продаж по региону в отдельную колонку\n",
    "eu_sales_sum = eu_sales_by_genre[\"eu_sales\"].sum()\n",
    "eu_sales_by_genre[\"proportion\"] = eu_sales_by_genre[\"eu_sales\"] / eu_sales_sum\n",
    "print(\"Самые популярные жанры Европы:\")\n",
    "display(eu_sales_by_genre.head())\n",
    "\n",
    "\n",
    "# Самые популярные жанры Японии(топ-5)\n",
    "\n",
    "# Сформируем данные по продажам в JP с 2014г. по жанрам\n",
    "jp_sales_by_genre = df.query(\"year_of_release >= 2014\").pivot_table(\n",
    "    index=\"genre\", values=\"jp_sales\", aggfunc=\"sum\"\n",
    ")\n",
    "\n",
    "# Отсортируем и перенесем платформы из индексов в отдельную колонку\n",
    "jp_sales_by_genre = jp_sales_by_genre.sort_values(\n",
    "    by=\"jp_sales\", ascending=False\n",
    ").reset_index()\n",
    "\n",
    "# Посчитаем доли от общего объема продаж по региону в отдельную колонку\n",
    "jp_sales_sum = jp_sales_by_genre[\"jp_sales\"].sum()\n",
    "jp_sales_by_genre[\"proportion\"] = jp_sales_by_genre[\"jp_sales\"] / jp_sales_sum\n",
    "print(\"Самые популярные жанры Японии:\")\n",
    "display(jp_sales_by_genre.head())\n"
   ]
  },
  {
   "cell_type": "markdown",
   "metadata": {},
   "source": [
    "<span style='color:Blue'> Распределение по долям продаж в различных жанрах в Европе и Северной Америке почти идентично.\n",
    "    \n",
    "<span style='color:Blue'> Рынок Японии в случае с жанрами так же специфичен. Лидером рынка являются игры role-playing(RPG). Это может быть отчасти связано с доминированием в Японии карманного типа платформы (3ds), которая хорошо сочетается с данным жанром. Еще одно существенное отличие рынка - слабая популярность шутеров. Рынок Японии более сконцентрирован. Два первыхжанра занимают более 60% продаж."
   ]
  },
  {
   "cell_type": "code",
   "execution_count": 203,
   "metadata": {},
   "outputs": [
    {
     "name": "stdout",
     "output_type": "stream",
     "text": [
      "Популярность рейтингов в Северной Америке:\n"
     ]
    },
    {
     "data": {
      "text/html": [
       "<div>\n",
       "<style scoped>\n",
       "    .dataframe tbody tr th:only-of-type {\n",
       "        vertical-align: middle;\n",
       "    }\n",
       "\n",
       "    .dataframe tbody tr th {\n",
       "        vertical-align: top;\n",
       "    }\n",
       "\n",
       "    .dataframe thead th {\n",
       "        text-align: right;\n",
       "    }\n",
       "</style>\n",
       "<table border=\"1\" class=\"dataframe\">\n",
       "  <thead>\n",
       "    <tr style=\"text-align: right;\">\n",
       "      <th></th>\n",
       "      <th>rating</th>\n",
       "      <th>na_sales</th>\n",
       "      <th>proportion</th>\n",
       "    </tr>\n",
       "  </thead>\n",
       "  <tbody>\n",
       "    <tr>\n",
       "      <th>0</th>\n",
       "      <td>M</td>\n",
       "      <td>96.42</td>\n",
       "      <td>0.439592</td>\n",
       "    </tr>\n",
       "    <tr>\n",
       "      <th>1</th>\n",
       "      <td>E</td>\n",
       "      <td>50.74</td>\n",
       "      <td>0.231330</td>\n",
       "    </tr>\n",
       "    <tr>\n",
       "      <th>2</th>\n",
       "      <td>T</td>\n",
       "      <td>38.95</td>\n",
       "      <td>0.177578</td>\n",
       "    </tr>\n",
       "    <tr>\n",
       "      <th>3</th>\n",
       "      <td>E10+</td>\n",
       "      <td>33.23</td>\n",
       "      <td>0.151500</td>\n",
       "    </tr>\n",
       "  </tbody>\n",
       "</table>\n",
       "</div>"
      ],
      "text/plain": [
       "  rating  na_sales  proportion\n",
       "0      M     96.42    0.439592\n",
       "1      E     50.74    0.231330\n",
       "2      T     38.95    0.177578\n",
       "3   E10+     33.23    0.151500"
      ]
     },
     "metadata": {},
     "output_type": "display_data"
    },
    {
     "name": "stdout",
     "output_type": "stream",
     "text": [
      "Популярность рейтингов в Европе:\n"
     ]
    },
    {
     "data": {
      "text/html": [
       "<div>\n",
       "<style scoped>\n",
       "    .dataframe tbody tr th:only-of-type {\n",
       "        vertical-align: middle;\n",
       "    }\n",
       "\n",
       "    .dataframe tbody tr th {\n",
       "        vertical-align: top;\n",
       "    }\n",
       "\n",
       "    .dataframe thead th {\n",
       "        text-align: right;\n",
       "    }\n",
       "</style>\n",
       "<table border=\"1\" class=\"dataframe\">\n",
       "  <thead>\n",
       "    <tr style=\"text-align: right;\">\n",
       "      <th></th>\n",
       "      <th>rating</th>\n",
       "      <th>eu_sales</th>\n",
       "      <th>proportion</th>\n",
       "    </tr>\n",
       "  </thead>\n",
       "  <tbody>\n",
       "    <tr>\n",
       "      <th>0</th>\n",
       "      <td>M</td>\n",
       "      <td>93.44</td>\n",
       "      <td>0.441317</td>\n",
       "    </tr>\n",
       "    <tr>\n",
       "      <th>1</th>\n",
       "      <td>E</td>\n",
       "      <td>58.06</td>\n",
       "      <td>0.274217</td>\n",
       "    </tr>\n",
       "    <tr>\n",
       "      <th>2</th>\n",
       "      <td>T</td>\n",
       "      <td>34.07</td>\n",
       "      <td>0.160912</td>\n",
       "    </tr>\n",
       "    <tr>\n",
       "      <th>3</th>\n",
       "      <td>E10+</td>\n",
       "      <td>26.16</td>\n",
       "      <td>0.123554</td>\n",
       "    </tr>\n",
       "  </tbody>\n",
       "</table>\n",
       "</div>"
      ],
      "text/plain": [
       "  rating  eu_sales  proportion\n",
       "0      M     93.44    0.441317\n",
       "1      E     58.06    0.274217\n",
       "2      T     34.07    0.160912\n",
       "3   E10+     26.16    0.123554"
      ]
     },
     "metadata": {},
     "output_type": "display_data"
    },
    {
     "name": "stdout",
     "output_type": "stream",
     "text": [
      "Популярность рейтингов в Японии:\n"
     ]
    },
    {
     "data": {
      "text/html": [
       "<div>\n",
       "<style scoped>\n",
       "    .dataframe tbody tr th:only-of-type {\n",
       "        vertical-align: middle;\n",
       "    }\n",
       "\n",
       "    .dataframe tbody tr th {\n",
       "        vertical-align: top;\n",
       "    }\n",
       "\n",
       "    .dataframe thead th {\n",
       "        text-align: right;\n",
       "    }\n",
       "</style>\n",
       "<table border=\"1\" class=\"dataframe\">\n",
       "  <thead>\n",
       "    <tr style=\"text-align: right;\">\n",
       "      <th></th>\n",
       "      <th>rating</th>\n",
       "      <th>jp_sales</th>\n",
       "      <th>proportion</th>\n",
       "    </tr>\n",
       "  </thead>\n",
       "  <tbody>\n",
       "    <tr>\n",
       "      <th>0</th>\n",
       "      <td>T</td>\n",
       "      <td>14.78</td>\n",
       "      <td>0.408400</td>\n",
       "    </tr>\n",
       "    <tr>\n",
       "      <th>1</th>\n",
       "      <td>E</td>\n",
       "      <td>8.94</td>\n",
       "      <td>0.247030</td>\n",
       "    </tr>\n",
       "    <tr>\n",
       "      <th>2</th>\n",
       "      <td>M</td>\n",
       "      <td>8.01</td>\n",
       "      <td>0.221332</td>\n",
       "    </tr>\n",
       "    <tr>\n",
       "      <th>3</th>\n",
       "      <td>E10+</td>\n",
       "      <td>4.46</td>\n",
       "      <td>0.123238</td>\n",
       "    </tr>\n",
       "  </tbody>\n",
       "</table>\n",
       "</div>"
      ],
      "text/plain": [
       "  rating  jp_sales  proportion\n",
       "0      T     14.78    0.408400\n",
       "1      E      8.94    0.247030\n",
       "2      M      8.01    0.221332\n",
       "3   E10+      4.46    0.123238"
      ]
     },
     "metadata": {},
     "output_type": "display_data"
    }
   ],
   "source": [
    "# Влияет ли рейтинг ESRB на продажи в отдельном регионе?\n",
    "\n",
    "# Северная Америка\n",
    "# Сформируем данные по продажам в NA с 2014г. по рейтингу\n",
    "na_sales_by_rating = df.query(\"year_of_release >= 2014\").pivot_table(\n",
    "    index=\"rating\", values=\"na_sales\", aggfunc=\"sum\"\n",
    ")\n",
    "\n",
    "# Отсортируем и перенесем платформы из индексов в отдельную колонку\n",
    "na_sales_by_rating = na_sales_by_rating.sort_values(\n",
    "    by=\"na_sales\", ascending=False\n",
    ").reset_index()\n",
    "\n",
    "# Посчитаем доли от общего объема продаж по региону в отдельную колонку\n",
    "na_sales_sum = na_sales_by_rating[\"na_sales\"].sum()\n",
    "na_sales_by_rating[\"proportion\"] = na_sales_by_rating[\"na_sales\"] / na_sales_sum\n",
    "print(\"Популярность рейтингов в Северной Америке:\")\n",
    "display(na_sales_by_rating)\n",
    "\n",
    "\n",
    "# Европа\n",
    "\n",
    "# Сформируем данные по продажам в EU с 2014г. по рейтингам\n",
    "eu_sales_by_rating = df.query(\"year_of_release >= 2014\").pivot_table(\n",
    "    index=\"rating\", values=\"eu_sales\", aggfunc=\"sum\"\n",
    ")\n",
    "\n",
    "# Отсортируем и перенесем платформы из индексов в отдельную колонку\n",
    "eu_sales_by_rating = eu_sales_by_rating.sort_values(\n",
    "    by=\"eu_sales\", ascending=False\n",
    ").reset_index()\n",
    "\n",
    "# Посчитаем доли от общего объема продаж по региону в отдельную колонку\n",
    "eu_sales_sum = eu_sales_by_rating[\"eu_sales\"].sum()\n",
    "eu_sales_by_rating[\"proportion\"] = eu_sales_by_rating[\"eu_sales\"] / eu_sales_sum\n",
    "print(\"Популярность рейтингов в Европе:\")\n",
    "display(eu_sales_by_rating.head())\n",
    "\n",
    "\n",
    "# Япония\n",
    "\n",
    "# Сформируем данные по продажам в JP с 2014г. рейтингам\n",
    "jp_sales_by_rating = df.query(\"year_of_release >= 2014\").pivot_table(\n",
    "    index=\"rating\", values=\"jp_sales\", aggfunc=\"sum\"\n",
    ")\n",
    "\n",
    "# Отсортируем и перенесем платформы из индексов в отдельную колонку\n",
    "jp_sales_by_rating = jp_sales_by_rating.sort_values(\n",
    "    by=\"jp_sales\", ascending=False\n",
    ").reset_index()\n",
    "\n",
    "# Посчитаем доли от общего объема продаж по региону в отдельную колонку\n",
    "jp_sales_sum = jp_sales_by_rating[\"jp_sales\"].sum()\n",
    "jp_sales_by_rating[\"proportion\"] = jp_sales_by_rating[\"jp_sales\"] / jp_sales_sum\n",
    "print(\"Популярность рейтингов в Японии:\")\n",
    "display(jp_sales_by_rating.head())\n"
   ]
  },
  {
   "cell_type": "markdown",
   "metadata": {},
   "source": [
    "<span style='color:Blue'> Рынок Японии снова демонстрирует специфику. В то время как в Северной Америке и Европе игры для взрослых занимают первое место, а игры для подростков третье, в Японии ровно наоборот, игры для подростков значительно более популярны."
   ]
  },
  {
   "cell_type": "code",
   "execution_count": 204,
   "metadata": {},
   "outputs": [
    {
     "data": {
      "text/plain": [
       "0.3482156241875802"
      ]
     },
     "execution_count": 204,
     "metadata": {},
     "output_type": "execute_result"
    },
    {
     "data": {
      "image/png": "[encoded data removed]",
      "text/plain": [
       "<Figure size 1080x360 with 1 Axes>"
      ]
     },
     "metadata": {
      "needs_background": "light"
     },
     "output_type": "display_data"
    }
   ],
   "source": [
    "# Раз рынок японии имеет свою доминирующую платформу 3ds попробуем дополнительно определить взаимосвязь\n",
    "#оценок пользователей и критиков с продажами в японии для игр данной консоли.\n",
    "\n",
    "#сначала для оценок критиков\n",
    "df.query('platform == \"3ds\"').plot(x='jp_sales', y='critic_score', kind='scatter', figsize=(15,5))\n",
    "plt.ylabel('Оценка критиков (баллы)')\n",
    "plt.xlabel('Объем продаж (млн. копий)')\n",
    "plt.title('Зависимость объемов продаж от оценки критиков для \"3ds\"')\n",
    "\n",
    "# оценим корреляцию\n",
    "df.query('platform == \"3ds\"')['jp_sales'].corr(df.query('platform == \"3ds\"')['critic_score'])"
   ]
  },
  {
   "cell_type": "markdown",
   "metadata": {},
   "source": [
    "<span style='color:Blue'> Связь для 3ds в японии между продажами и оценками критиков чуть сильнее, чем для ps4 и XOne на глобальном рынке. В случае ориентации продаж на рынок японии целесообразно поднять критерий отбора до 70 баллов."
   ]
  },
  {
   "cell_type": "code",
   "execution_count": 205,
   "metadata": {},
   "outputs": [
    {
     "data": {
      "text/plain": [
       "0.2726596441307417"
      ]
     },
     "execution_count": 205,
     "metadata": {},
     "output_type": "execute_result"
    },
    {
     "data": {
      "image/png": "[encoded data removed]",
      "text/plain": [
       "<Figure size 1080x360 with 1 Axes>"
      ]
     },
     "metadata": {
      "needs_background": "light"
     },
     "output_type": "display_data"
    }
   ],
   "source": [
    "#теперь для оценок пользователей\n",
    "df.query('platform == \"3ds\"').plot(x='jp_sales', y='user_score', kind='scatter', figsize=(15,5))\n",
    "plt.ylabel('Оценка пользователей (баллы)')\n",
    "plt.xlabel('Объем продаж (млн. копий)')\n",
    "plt.title('Зависимость объемов продаж от оценки пользователей для \"3ds\"')\n",
    "\n",
    "# оценим корреляцию\n",
    "df.query('platform == \"3ds\"')['jp_sales'].corr(df.query('platform == \"3ds\"')['user_score'])"
   ]
  },
  {
   "cell_type": "markdown",
   "metadata": {},
   "source": [
    "<span style='color:Blue'> В отличие от глобального рынка и платформ  ps4 и XOne, японцы похоже действительно ориентируются на рейтинги при покупке игр для 3ds. В случае опиентации продаж на рынок Японии целесообразно установить критерий пользовательского рейтинга не ниже 6"
   ]
  },
  {
   "cell_type": "markdown",
   "metadata": {},
   "source": [
    "<span style='color:Blue'> В итоге по портрету потребителя рынки Европы и Северной америки будут совпадать. Типичный игрок этих рынков предпочитает ps4 или XOne и играет в достаточно жесткие игры («Mature» — «Для взрослых») в жанрах action или shooter. Японский потребитель отличается. Для него типичны карманная приставка и PRG игры с подростковым возрастным ограничением."
   ]
  },
  {
   "cell_type": "markdown",
   "metadata": {},
   "source": [
    "# 3. Проверка статистических гипотез.  <a id=3></a>"
   ]
  },
  {
   "cell_type": "markdown",
   "metadata": {},
   "source": [
    "#### Гипотеза №1\n",
    "#### Средние пользовательские рейтинги платформ Xbox One и PC одинаковые."
   ]
  },
  {
   "cell_type": "markdown",
   "metadata": {},
   "source": [
    "Сформулируем нулевую и альтернативную гипотезы:    \n",
    "    H0: Средний пользовательский рейтинг генеральной совокупности игр на платформе Xbox One равен среднему пользовательскому рейтингу генеральной совокупности игр на платформе PC    \n",
    "    H1: Средний пользовательский рейтинг генеральной совокупности игр на платформе Xbox One не равен среднему пользовательскому рейтингу генеральной совокупности игр на платформе PC"
   ]
  },
  {
   "cell_type": "code",
   "execution_count": 206,
   "metadata": {},
   "outputs": [
    {
     "name": "stdout",
     "output_type": "stream",
     "text": [
      "Статистическая значимость разницы между средними значениями рейтинга: 3.750185722417337e-05\n",
      "Принимаем нулевую гипотезу. Вероятнее всего, пользователи в среднем одинаово оценивают игры для Xbox One и PC\n"
     ]
    }
   ],
   "source": [
    "# Применим критерий Стьюдента\n",
    "\n",
    "# определим выборки данных \n",
    "xone_user_score = df.query('platform == \"xone\"')['user_score'].dropna().reset_index(drop=True)\n",
    "pc_user_score = df.query('platform == \"pc\"')['user_score'].dropna().reset_index(drop=True)\n",
    "\n",
    "# определим значимость и проверим гипотезу\n",
    "alpha = .05 # раз речь не о жизни или смерти, то 5% допустимый уровень риска ошибки\n",
    "\n",
    "\n",
    "# рассчитаем результат\n",
    "results = st.ttest_ind(xone_user_score, pc_user_score)\n",
    "\n",
    "print('Статистическая значимость разницы между средними значениями рейтинга:',results.pvalue)\n",
    "\n",
    "if results.pvalue < alpha:\n",
    "    print('Принимаем нулевую гипотезу. Вероятнее всего, пользователи в среднем одинаово оценивают игры для Xbox One и PC')\n",
    "else:\n",
    "    print('Отвергаем нулевую гипотезу. Вероятнее всего, средняя оценка игр для Xbox One и PC пользователями отличается')\n"
   ]
  },
  {
   "cell_type": "markdown",
   "metadata": {},
   "source": [
    "#### Гипотеза №2\n",
    "#### Средние пользовательские рейтинги жанров Action (англ. «действие», экшен-игры) и Sports (англ. «спортивные соревнования») разные."
   ]
  },
  {
   "cell_type": "markdown",
   "metadata": {},
   "source": [
    "Сформулируем нулевую и альтернативную гипотезы:    \n",
    "    H0: Средний пользовательский рейтинг генеральной совокупности игр в жанре Action равен среднему пользовательскому рейтингу генеральной совокупности игр в жанре Sports   \n",
    "    H1: Средний пользовательский рейтинг генеральной совокупности игр в жанре Action не равен среднему пользовательскому рейтингу генеральной совокупности игр в жанре Sports\n",
    "        \n",
    "        В данном случае, гипотеза №2 будет соответствовать альтернативной."
   ]
  },
  {
   "cell_type": "code",
   "execution_count": 207,
   "metadata": {},
   "outputs": [
    {
     "name": "stdout",
     "output_type": "stream",
     "text": [
      "Статистическая значимость разницы между средними значениями рейтинга: 0.09063548503578989\n",
      "Отвергаем нулевую гипотезу. Вероятнее всего, средняя оценка игр в жанрах action и sports отличается\n"
     ]
    }
   ],
   "source": [
    "# Применим критерий Стьюдента\n",
    "\n",
    "# определим выборки данных \n",
    "action_user_score = df.query('genre == \"action\"')['user_score'].dropna().reset_index(drop=True)\n",
    "sports_user_score = df.query('genre == \"sports\"')['user_score'].dropna().reset_index(drop=True)\n",
    "\n",
    "# определим значимость и проверим гипотезу\n",
    "alpha = .05 # раз речь не о жизни или смерти, то 5% допустимый уровень риска ошибки\n",
    "\n",
    "\n",
    "# рассчитаем результат\n",
    "results = st.ttest_ind(action_user_score, sports_user_score)\n",
    "\n",
    "print('Статистическая значимость разницы между средними значениями рейтинга:',results.pvalue)\n",
    "\n",
    "if results.pvalue < alpha:\n",
    "    print('Принимаем нулевую гипотезу. Вероятнее всего, пользователи в среднем одинаово оценивают игры в жанрах action и sports')\n",
    "else:\n",
    "    print('Отвергаем нулевую гипотезу. Вероятнее всего, средняя оценка игр в жанрах action и sports отличается')"
   ]
  },
  {
   "cell_type": "markdown",
   "metadata": {},
   "source": [
    "# 4. Общие выводы. <a id=4></a>"
   ]
  },
  {
   "cell_type": "markdown",
   "metadata": {},
   "source": [
    "В итоге имеем следующие критерии в порядке убывания значимости(за исключением случая ориентации на Японский рынок):\n",
    "- Предпочтительная платформа - ps4\n",
    "- Предпочтительный жанр - shooter\n",
    "- Предпочтительный возрастной рейтинг М («Mature» — «Для взрослых»)\n",
    "- Оценка критиков не ниже 60 баллов(по 100б шкале )\n",
    "- Оценка пользователей не ниже 3-х баллов(по 10б шкале)"
   ]
  },
  {
   "cell_type": "markdown",
   "metadata": {},
   "source": [
    "При ориентации на рынок Японии:\n",
    "- Предпочтительная платформа - 3ds\n",
    "- Предпочтительный жанр - role-playing(RPG)\n",
    "- Предпочтительный возрастной рейтинг T («Teen» — «Для подростков»)\n",
    "- Оценка критиков не ниже 70 баллов(по 100б шкале )\n",
    "- Оценка пользователей не ниже 6 баллов(по 10б шкале)\n"
   ]
  }
 ],
 "metadata": {
  "kernelspec": {
   "display_name": "Python 3",
   "language": "python",
   "name": "python3"
  },
  "language_info": {
   "codemirror_mode": {
    "name": "ipython",
    "version": 3
   },
   "file_extension": ".py",
   "mimetype": "text/x-python",
   "name": "python",
   "nbconvert_exporter": "python",
   "pygments_lexer": "ipython3",
   "version": "3.8.3"
  }
 },
 "nbformat": 4,
 "nbformat_minor": 2
}
